{
 "cells": [
  {
   "cell_type": "markdown",
   "metadata": {},
   "source": [
    "## The Modelling Process\n",
    "___\n",
    "* We cleaned the original data set in the previous notebook before splitting it into separate csv files for training and testing. \n",
    "* We need to explore the data set for relationship among the features and the target variable.\n",
    "* Then, we can proceed to the next step which will be engineering new features.\n",
    "* Finally, we can fit machine learning models to the training data."
   ]
  },
  {
   "cell_type": "code",
   "execution_count": 337,
   "metadata": {},
   "outputs": [],
   "source": [
    "# import the libraries necessarry for cleaning and eda\n",
    "import numpy as np\n",
    "import pandas as pd\n",
    "import matplotlib.pyplot as plt\n",
    "%matplotlib inline\n",
    "\n",
    "import seaborn as sns\n",
    "sns.set(style='white')\n",
    "plt.style.use('seaborn')\n",
    "\n",
    "pd.set_option('display.max_columns', 100)  # display max rows and columns\n",
    "pd.set_option('display.max_rows', 100)\n",
    "pd.set_option('display.float_format', lambda x: '%.2f' % x)  # avoid outputing scientific notation"
   ]
  },
  {
   "cell_type": "code",
   "execution_count": 338,
   "metadata": {},
   "outputs": [],
   "source": [
    "df = pd.read_csv('cardiac_train.csv')  # read in the training data set"
   ]
  },
  {
   "cell_type": "code",
   "execution_count": 339,
   "metadata": {},
   "outputs": [
    {
     "name": "stdout",
     "output_type": "stream",
     "text": [
      "(50865, 13)\n"
     ]
    },
    {
     "data": {
      "text/html": [
       "<div>\n",
       "<style scoped>\n",
       "    .dataframe tbody tr th:only-of-type {\n",
       "        vertical-align: middle;\n",
       "    }\n",
       "\n",
       "    .dataframe tbody tr th {\n",
       "        vertical-align: top;\n",
       "    }\n",
       "\n",
       "    .dataframe thead th {\n",
       "        text-align: right;\n",
       "    }\n",
       "</style>\n",
       "<table border=\"1\" class=\"dataframe\">\n",
       "  <thead>\n",
       "    <tr style=\"text-align: right;\">\n",
       "      <th></th>\n",
       "      <th>age</th>\n",
       "      <th>gender</th>\n",
       "      <th>height</th>\n",
       "      <th>weight</th>\n",
       "      <th>bp_high</th>\n",
       "      <th>bp_low</th>\n",
       "      <th>cholesterol</th>\n",
       "      <th>gluc</th>\n",
       "      <th>smoke</th>\n",
       "      <th>alco</th>\n",
       "      <th>active</th>\n",
       "      <th>cardio</th>\n",
       "      <th>bmi</th>\n",
       "    </tr>\n",
       "  </thead>\n",
       "  <tbody>\n",
       "    <tr>\n",
       "      <th>0</th>\n",
       "      <td>41.39</td>\n",
       "      <td>female</td>\n",
       "      <td>1.66</td>\n",
       "      <td>77.00</td>\n",
       "      <td>160.00</td>\n",
       "      <td>100.00</td>\n",
       "      <td>normal</td>\n",
       "      <td>above normal</td>\n",
       "      <td>1</td>\n",
       "      <td>0</td>\n",
       "      <td>1</td>\n",
       "      <td>0</td>\n",
       "      <td>27.94</td>\n",
       "    </tr>\n",
       "    <tr>\n",
       "      <th>1</th>\n",
       "      <td>52.62</td>\n",
       "      <td>female</td>\n",
       "      <td>1.63</td>\n",
       "      <td>75.00</td>\n",
       "      <td>120.00</td>\n",
       "      <td>80.00</td>\n",
       "      <td>normal</td>\n",
       "      <td>normal</td>\n",
       "      <td>0</td>\n",
       "      <td>0</td>\n",
       "      <td>1</td>\n",
       "      <td>1</td>\n",
       "      <td>28.23</td>\n",
       "    </tr>\n",
       "    <tr>\n",
       "      <th>2</th>\n",
       "      <td>50.62</td>\n",
       "      <td>female</td>\n",
       "      <td>1.65</td>\n",
       "      <td>54.00</td>\n",
       "      <td>90.00</td>\n",
       "      <td>60.00</td>\n",
       "      <td>well above normal</td>\n",
       "      <td>well above normal</td>\n",
       "      <td>0</td>\n",
       "      <td>0</td>\n",
       "      <td>1</td>\n",
       "      <td>0</td>\n",
       "      <td>19.83</td>\n",
       "    </tr>\n",
       "    <tr>\n",
       "      <th>3</th>\n",
       "      <td>58.20</td>\n",
       "      <td>male</td>\n",
       "      <td>1.69</td>\n",
       "      <td>70.00</td>\n",
       "      <td>140.00</td>\n",
       "      <td>90.00</td>\n",
       "      <td>normal</td>\n",
       "      <td>normal</td>\n",
       "      <td>0</td>\n",
       "      <td>0</td>\n",
       "      <td>1</td>\n",
       "      <td>0</td>\n",
       "      <td>24.51</td>\n",
       "    </tr>\n",
       "    <tr>\n",
       "      <th>4</th>\n",
       "      <td>61.70</td>\n",
       "      <td>female</td>\n",
       "      <td>1.54</td>\n",
       "      <td>58.00</td>\n",
       "      <td>110.00</td>\n",
       "      <td>60.00</td>\n",
       "      <td>normal</td>\n",
       "      <td>normal</td>\n",
       "      <td>0</td>\n",
       "      <td>0</td>\n",
       "      <td>1</td>\n",
       "      <td>0</td>\n",
       "      <td>24.46</td>\n",
       "    </tr>\n",
       "  </tbody>\n",
       "</table>\n",
       "</div>"
      ],
      "text/plain": [
       "    age  gender  height  weight  bp_high  bp_low        cholesterol  \\\n",
       "0 41.39  female    1.66   77.00   160.00  100.00             normal   \n",
       "1 52.62  female    1.63   75.00   120.00   80.00             normal   \n",
       "2 50.62  female    1.65   54.00    90.00   60.00  well above normal   \n",
       "3 58.20    male    1.69   70.00   140.00   90.00             normal   \n",
       "4 61.70  female    1.54   58.00   110.00   60.00             normal   \n",
       "\n",
       "                gluc  smoke  alco  active  cardio   bmi  \n",
       "0       above normal      1     0       1       0 27.94  \n",
       "1             normal      0     0       1       1 28.23  \n",
       "2  well above normal      0     0       1       0 19.83  \n",
       "3             normal      0     0       1       0 24.51  \n",
       "4             normal      0     0       1       0 24.46  "
      ]
     },
     "execution_count": 339,
     "metadata": {},
     "output_type": "execute_result"
    }
   ],
   "source": [
    "print(df.shape)  # print the dimensions of the data set\n",
    "df.head()  # check the first 5 rows"
   ]
  },
  {
   "cell_type": "markdown",
   "metadata": {},
   "source": [
    "## Exploratory Data Analysis\n",
    "___"
   ]
  },
  {
   "cell_type": "code",
   "execution_count": 340,
   "metadata": {},
   "outputs": [
    {
     "data": {
      "text/html": [
       "<div>\n",
       "<style scoped>\n",
       "    .dataframe tbody tr th:only-of-type {\n",
       "        vertical-align: middle;\n",
       "    }\n",
       "\n",
       "    .dataframe tbody tr th {\n",
       "        vertical-align: top;\n",
       "    }\n",
       "\n",
       "    .dataframe thead th {\n",
       "        text-align: right;\n",
       "    }\n",
       "</style>\n",
       "<table border=\"1\" class=\"dataframe\">\n",
       "  <thead>\n",
       "    <tr style=\"text-align: right;\">\n",
       "      <th></th>\n",
       "      <th>age</th>\n",
       "      <th>height</th>\n",
       "      <th>weight</th>\n",
       "      <th>bp_high</th>\n",
       "      <th>bp_low</th>\n",
       "      <th>smoke</th>\n",
       "      <th>alco</th>\n",
       "      <th>active</th>\n",
       "      <th>cardio</th>\n",
       "      <th>bmi</th>\n",
       "    </tr>\n",
       "  </thead>\n",
       "  <tbody>\n",
       "    <tr>\n",
       "      <th>min</th>\n",
       "      <td>29.58</td>\n",
       "      <td>1.25</td>\n",
       "      <td>32.00</td>\n",
       "      <td>60.00</td>\n",
       "      <td>40.00</td>\n",
       "      <td>0.00</td>\n",
       "      <td>0.00</td>\n",
       "      <td>0.00</td>\n",
       "      <td>0.00</td>\n",
       "      <td>15.01</td>\n",
       "    </tr>\n",
       "    <tr>\n",
       "      <th>mean</th>\n",
       "      <td>53.25</td>\n",
       "      <td>1.65</td>\n",
       "      <td>71.61</td>\n",
       "      <td>126.18</td>\n",
       "      <td>81.15</td>\n",
       "      <td>0.09</td>\n",
       "      <td>0.05</td>\n",
       "      <td>0.80</td>\n",
       "      <td>0.48</td>\n",
       "      <td>26.36</td>\n",
       "    </tr>\n",
       "    <tr>\n",
       "      <th>50%</th>\n",
       "      <td>53.92</td>\n",
       "      <td>1.65</td>\n",
       "      <td>70.00</td>\n",
       "      <td>120.00</td>\n",
       "      <td>80.00</td>\n",
       "      <td>0.00</td>\n",
       "      <td>0.00</td>\n",
       "      <td>1.00</td>\n",
       "      <td>0.00</td>\n",
       "      <td>25.86</td>\n",
       "    </tr>\n",
       "    <tr>\n",
       "      <th>75%</th>\n",
       "      <td>58.35</td>\n",
       "      <td>1.70</td>\n",
       "      <td>79.00</td>\n",
       "      <td>140.00</td>\n",
       "      <td>90.00</td>\n",
       "      <td>0.00</td>\n",
       "      <td>0.00</td>\n",
       "      <td>1.00</td>\n",
       "      <td>1.00</td>\n",
       "      <td>29.00</td>\n",
       "    </tr>\n",
       "    <tr>\n",
       "      <th>max</th>\n",
       "      <td>64.97</td>\n",
       "      <td>1.98</td>\n",
       "      <td>125.00</td>\n",
       "      <td>240.00</td>\n",
       "      <td>182.00</td>\n",
       "      <td>1.00</td>\n",
       "      <td>1.00</td>\n",
       "      <td>1.00</td>\n",
       "      <td>1.00</td>\n",
       "      <td>35.00</td>\n",
       "    </tr>\n",
       "  </tbody>\n",
       "</table>\n",
       "</div>"
      ],
      "text/plain": [
       "       age  height  weight  bp_high  bp_low  smoke  alco  active  cardio   bmi\n",
       "min  29.58    1.25   32.00    60.00   40.00   0.00  0.00    0.00    0.00 15.01\n",
       "mean 53.25    1.65   71.61   126.18   81.15   0.09  0.05    0.80    0.48 26.36\n",
       "50%  53.92    1.65   70.00   120.00   80.00   0.00  0.00    1.00    0.00 25.86\n",
       "75%  58.35    1.70   79.00   140.00   90.00   0.00  0.00    1.00    1.00 29.00\n",
       "max  64.97    1.98  125.00   240.00  182.00   1.00  1.00    1.00    1.00 35.00"
      ]
     },
     "execution_count": 340,
     "metadata": {},
     "output_type": "execute_result"
    }
   ],
   "source": [
    "df.describe().iloc[[3,1,5,6,7],:]  # check the descriptive stats of the numeric columns"
   ]
  },
  {
   "cell_type": "code",
   "execution_count": 341,
   "metadata": {},
   "outputs": [
    {
     "data": {
      "text/plain": [
       "age       0.24\n",
       "height    0.00\n",
       "weight    0.15\n",
       "bp_high   0.43\n",
       "bp_low    0.34\n",
       "smoke     0.01\n",
       "alco      0.01\n",
       "active    0.03\n",
       "cardio    1.00\n",
       "bmi       0.17\n",
       "Name: cardio, dtype: float64"
      ]
     },
     "execution_count": 341,
     "metadata": {},
     "output_type": "execute_result"
    }
   ],
   "source": [
    "df.corr().abs()['cardio']  # check the correlation between the target and the features"
   ]
  },
  {
   "cell_type": "markdown",
   "metadata": {},
   "source": [
    "* alco, smoke and height have very little correlation with the target."
   ]
  },
  {
   "cell_type": "code",
   "execution_count": 420,
   "metadata": {},
   "outputs": [
    {
     "data": {
      "image/png": "[encoded data removed]",
      "text/plain": [
       "<Figure size 1728x432 with 4 Axes>"
      ]
     },
     "metadata": {},
     "output_type": "display_data"
    }
   ],
   "source": [
    "# lets check the distributions of a few continuous columns\n",
    "fig = plt.figure(figsize = (24,6))\n",
    "\n",
    "num_cols = ['age','bmi','bp_high','bp_low',]\n",
    "\n",
    "for n in range(0,4):\n",
    "    ax = fig.add_subplot(1,4,n+1)\n",
    "    sns.distplot(df[num_cols[n]], bins = 20, ax = ax, axlabel= num_cols[n].upper() ,color='teal',)\n",
    "    \n",
    "plt.savefig('distplot.png')    "
   ]
  },
  {
   "cell_type": "markdown",
   "metadata": {},
   "source": [
    "* Age has a left skewed distribution. Values fall between 29 and 65. Therefore, we are dealing with adults only.\n",
    "* BMI has an almost normal distribution.\n",
    "* Blood pressure values are clustered toward their baseline values for normal blood pressure levels."
   ]
  },
  {
   "cell_type": "code",
   "execution_count": 422,
   "metadata": {},
   "outputs": [
    {
     "data": {
      "image/png": "[encoded data removed]",
      "text/plain": [
       "<Figure size 1728x432 with 3 Axes>"
      ]
     },
     "metadata": {},
     "output_type": "display_data"
    }
   ],
   "source": [
    "sns.set_style('darkgrid')\n",
    "fig = plt.figure(figsize = (24,6))\n",
    "fig.subplots_adjust(hspace = .30)\n",
    "\n",
    "cols = ['age','bmi','bp_high']\n",
    "\n",
    "for n in range(0,3):\n",
    "    ax = fig.add_subplot(1,3,n+1)\n",
    "    ax.hist(df[df['cardio'] ==0][cols[n]], bins = 20, label ='No Disease', alpha = .50,edgecolor= 'black',color ='grey')\n",
    "    ax.hist(df[df['cardio']==1][cols[n]], bins = 20, label = 'Disease', alpha = .50, edgecolor = 'black',color = 'lightgreen')\n",
    "    ax.set_title(cols[n].upper()+': Disease vs No-Disease')\n",
    "    ax.set_xlabel(cols[n].upper())\n",
    "    ax.set_ylabel('# Patients')\n",
    "    ax.legend(loc = 'upper right')\n",
    "plt.savefig('histograms_by_class.png')"
   ]
  },
  {
   "cell_type": "markdown",
   "metadata": {},
   "source": [
    "* Older a patient is, the more likely it is that they have a cardiac disease.\n",
    "* BMI and Blood pressure have the same relationship as well, the higher those numbers are the more likely is the presence of a disease."
   ]
  },
  {
   "cell_type": "markdown",
   "metadata": {},
   "source": [
    "## Feature Engineering\n",
    "___"
   ]
  },
  {
   "cell_type": "markdown",
   "metadata": {},
   "source": [
    "* We can create a new column from the BMI column. We will use the numbers from the official BMI categories to group people into distinct groups."
   ]
  },
  {
   "cell_type": "code",
   "execution_count": 344,
   "metadata": {},
   "outputs": [
    {
     "data": {
      "text/plain": [
       "normal         20501\n",
       "overweight     20151\n",
       "obese           9729\n",
       "underweight      484\n",
       "Name: bmi_cat, dtype: int64"
      ]
     },
     "execution_count": 344,
     "metadata": {},
     "output_type": "execute_result"
    }
   ],
   "source": [
    "df['bmi_cat'] = pd.cut(df['bmi'], right= False, bins = [0,18.5,25,30,36], \n",
    "                       labels=['underweight','normal','overweight','obese'])\n",
    "df['bmi_cat'].value_counts(dropna = False)"
   ]
  },
  {
   "cell_type": "code",
   "execution_count": 345,
   "metadata": {},
   "outputs": [],
   "source": [
    "# create dummy columns from these categorical feature and assign it to a new data frame\n",
    "dummy_df = pd.get_dummies(df, columns=['bmi_cat','gender'], prefix = '', prefix_sep = '', drop_first= True)"
   ]
  },
  {
   "cell_type": "code",
   "execution_count": 346,
   "metadata": {},
   "outputs": [],
   "source": [
    "# we have more categorical columns that need to be converted into dummies\n",
    "dummy_df = pd.get_dummies(dummy_df, columns=['cholesterol','gluc'], prefix =['chol','gluc'],)"
   ]
  },
  {
   "cell_type": "code",
   "execution_count": 347,
   "metadata": {},
   "outputs": [
    {
     "data": {
      "text/plain": [
       "0.7388991754657869"
      ]
     },
     "execution_count": 347,
     "metadata": {},
     "output_type": "execute_result"
    }
   ],
   "source": [
    "# check the correlation between the blood pressure features\n",
    "dummy_df['bp_high'].corr(df['bp_low'])"
   ]
  },
  {
   "cell_type": "code",
   "execution_count": 348,
   "metadata": {},
   "outputs": [],
   "source": [
    "# since they are highly correlated and this is true in the real world too\n",
    "# let's create a new categorical column from bp_high using the official levels \n",
    "dummy_df['bp_lvl'] = dummy_df['bp_high'].apply(lambda x: 'crisis' if (x >= 180) else\n",
    "                                              ('hyper_2' if (x < 180) & (x >= 140) else\n",
    "                                              ('hyper_1' if (x < 140) & (x >= 130) else\n",
    "                                              ('normal' if (x < 130) & (x >= 90) else 'lowest'))))"
   ]
  },
  {
   "cell_type": "code",
   "execution_count": 349,
   "metadata": {},
   "outputs": [],
   "source": [
    "dummy_df = pd.get_dummies(dummy_df, columns=['bp_lvl'], prefix =['bp'],) # make dummies for the new column"
   ]
  },
  {
   "cell_type": "code",
   "execution_count": 350,
   "metadata": {},
   "outputs": [
    {
     "data": {
      "text/html": [
       "<div>\n",
       "<style scoped>\n",
       "    .dataframe tbody tr th:only-of-type {\n",
       "        vertical-align: middle;\n",
       "    }\n",
       "\n",
       "    .dataframe tbody tr th {\n",
       "        vertical-align: top;\n",
       "    }\n",
       "\n",
       "    .dataframe thead th {\n",
       "        text-align: right;\n",
       "    }\n",
       "</style>\n",
       "<table border=\"1\" class=\"dataframe\">\n",
       "  <thead>\n",
       "    <tr style=\"text-align: right;\">\n",
       "      <th></th>\n",
       "      <th>age</th>\n",
       "      <th>height</th>\n",
       "      <th>weight</th>\n",
       "      <th>bp_high</th>\n",
       "      <th>bp_low</th>\n",
       "      <th>smoke</th>\n",
       "      <th>alco</th>\n",
       "      <th>active</th>\n",
       "      <th>cardio</th>\n",
       "      <th>bmi</th>\n",
       "      <th>normal</th>\n",
       "      <th>overweight</th>\n",
       "      <th>obese</th>\n",
       "      <th>male</th>\n",
       "      <th>chol_above normal</th>\n",
       "      <th>chol_normal</th>\n",
       "      <th>chol_well above normal</th>\n",
       "      <th>gluc_above normal</th>\n",
       "      <th>gluc_normal</th>\n",
       "      <th>gluc_well above normal</th>\n",
       "      <th>bp_crisis</th>\n",
       "      <th>bp_hyper_1</th>\n",
       "      <th>bp_hyper_2</th>\n",
       "      <th>bp_lowest</th>\n",
       "      <th>bp_normal</th>\n",
       "    </tr>\n",
       "  </thead>\n",
       "  <tbody>\n",
       "    <tr>\n",
       "      <th>0</th>\n",
       "      <td>41.39</td>\n",
       "      <td>1.66</td>\n",
       "      <td>77.00</td>\n",
       "      <td>160.00</td>\n",
       "      <td>100.00</td>\n",
       "      <td>1</td>\n",
       "      <td>0</td>\n",
       "      <td>1</td>\n",
       "      <td>0</td>\n",
       "      <td>27.94</td>\n",
       "      <td>0</td>\n",
       "      <td>1</td>\n",
       "      <td>0</td>\n",
       "      <td>0</td>\n",
       "      <td>0</td>\n",
       "      <td>1</td>\n",
       "      <td>0</td>\n",
       "      <td>1</td>\n",
       "      <td>0</td>\n",
       "      <td>0</td>\n",
       "      <td>0</td>\n",
       "      <td>0</td>\n",
       "      <td>1</td>\n",
       "      <td>0</td>\n",
       "      <td>0</td>\n",
       "    </tr>\n",
       "    <tr>\n",
       "      <th>1</th>\n",
       "      <td>52.62</td>\n",
       "      <td>1.63</td>\n",
       "      <td>75.00</td>\n",
       "      <td>120.00</td>\n",
       "      <td>80.00</td>\n",
       "      <td>0</td>\n",
       "      <td>0</td>\n",
       "      <td>1</td>\n",
       "      <td>1</td>\n",
       "      <td>28.23</td>\n",
       "      <td>0</td>\n",
       "      <td>1</td>\n",
       "      <td>0</td>\n",
       "      <td>0</td>\n",
       "      <td>0</td>\n",
       "      <td>1</td>\n",
       "      <td>0</td>\n",
       "      <td>0</td>\n",
       "      <td>1</td>\n",
       "      <td>0</td>\n",
       "      <td>0</td>\n",
       "      <td>0</td>\n",
       "      <td>0</td>\n",
       "      <td>0</td>\n",
       "      <td>1</td>\n",
       "    </tr>\n",
       "    <tr>\n",
       "      <th>2</th>\n",
       "      <td>50.62</td>\n",
       "      <td>1.65</td>\n",
       "      <td>54.00</td>\n",
       "      <td>90.00</td>\n",
       "      <td>60.00</td>\n",
       "      <td>0</td>\n",
       "      <td>0</td>\n",
       "      <td>1</td>\n",
       "      <td>0</td>\n",
       "      <td>19.83</td>\n",
       "      <td>1</td>\n",
       "      <td>0</td>\n",
       "      <td>0</td>\n",
       "      <td>0</td>\n",
       "      <td>0</td>\n",
       "      <td>0</td>\n",
       "      <td>1</td>\n",
       "      <td>0</td>\n",
       "      <td>0</td>\n",
       "      <td>1</td>\n",
       "      <td>0</td>\n",
       "      <td>0</td>\n",
       "      <td>0</td>\n",
       "      <td>0</td>\n",
       "      <td>1</td>\n",
       "    </tr>\n",
       "    <tr>\n",
       "      <th>3</th>\n",
       "      <td>58.20</td>\n",
       "      <td>1.69</td>\n",
       "      <td>70.00</td>\n",
       "      <td>140.00</td>\n",
       "      <td>90.00</td>\n",
       "      <td>0</td>\n",
       "      <td>0</td>\n",
       "      <td>1</td>\n",
       "      <td>0</td>\n",
       "      <td>24.51</td>\n",
       "      <td>1</td>\n",
       "      <td>0</td>\n",
       "      <td>0</td>\n",
       "      <td>1</td>\n",
       "      <td>0</td>\n",
       "      <td>1</td>\n",
       "      <td>0</td>\n",
       "      <td>0</td>\n",
       "      <td>1</td>\n",
       "      <td>0</td>\n",
       "      <td>0</td>\n",
       "      <td>0</td>\n",
       "      <td>1</td>\n",
       "      <td>0</td>\n",
       "      <td>0</td>\n",
       "    </tr>\n",
       "    <tr>\n",
       "      <th>4</th>\n",
       "      <td>61.70</td>\n",
       "      <td>1.54</td>\n",
       "      <td>58.00</td>\n",
       "      <td>110.00</td>\n",
       "      <td>60.00</td>\n",
       "      <td>0</td>\n",
       "      <td>0</td>\n",
       "      <td>1</td>\n",
       "      <td>0</td>\n",
       "      <td>24.46</td>\n",
       "      <td>1</td>\n",
       "      <td>0</td>\n",
       "      <td>0</td>\n",
       "      <td>0</td>\n",
       "      <td>0</td>\n",
       "      <td>1</td>\n",
       "      <td>0</td>\n",
       "      <td>0</td>\n",
       "      <td>1</td>\n",
       "      <td>0</td>\n",
       "      <td>0</td>\n",
       "      <td>0</td>\n",
       "      <td>0</td>\n",
       "      <td>0</td>\n",
       "      <td>1</td>\n",
       "    </tr>\n",
       "  </tbody>\n",
       "</table>\n",
       "</div>"
      ],
      "text/plain": [
       "    age  height  weight  bp_high  bp_low  smoke  alco  active  cardio   bmi  \\\n",
       "0 41.39    1.66   77.00   160.00  100.00      1     0       1       0 27.94   \n",
       "1 52.62    1.63   75.00   120.00   80.00      0     0       1       1 28.23   \n",
       "2 50.62    1.65   54.00    90.00   60.00      0     0       1       0 19.83   \n",
       "3 58.20    1.69   70.00   140.00   90.00      0     0       1       0 24.51   \n",
       "4 61.70    1.54   58.00   110.00   60.00      0     0       1       0 24.46   \n",
       "\n",
       "   normal  overweight  obese  male  chol_above normal  chol_normal  \\\n",
       "0       0           1      0     0                  0            1   \n",
       "1       0           1      0     0                  0            1   \n",
       "2       1           0      0     0                  0            0   \n",
       "3       1           0      0     1                  0            1   \n",
       "4       1           0      0     0                  0            1   \n",
       "\n",
       "   chol_well above normal  gluc_above normal  gluc_normal  \\\n",
       "0                       0                  1            0   \n",
       "1                       0                  0            1   \n",
       "2                       1                  0            0   \n",
       "3                       0                  0            1   \n",
       "4                       0                  0            1   \n",
       "\n",
       "   gluc_well above normal  bp_crisis  bp_hyper_1  bp_hyper_2  bp_lowest  \\\n",
       "0                       0          0           0           1          0   \n",
       "1                       0          0           0           0          0   \n",
       "2                       1          0           0           0          0   \n",
       "3                       0          0           0           1          0   \n",
       "4                       0          0           0           0          0   \n",
       "\n",
       "   bp_normal  \n",
       "0          0  \n",
       "1          1  \n",
       "2          1  \n",
       "3          0  \n",
       "4          1  "
      ]
     },
     "execution_count": 350,
     "metadata": {},
     "output_type": "execute_result"
    }
   ],
   "source": [
    "dummy_df.head()  # check out the first 5 rows in the new data frame with all the dummy columns"
   ]
  },
  {
   "cell_type": "code",
   "execution_count": 351,
   "metadata": {},
   "outputs": [
    {
     "data": {
      "text/plain": [
       "age                      0.24\n",
       "height                   0.00\n",
       "weight                   0.15\n",
       "bp_high                  0.43\n",
       "bp_low                   0.34\n",
       "smoke                    0.01\n",
       "alco                     0.01\n",
       "active                   0.03\n",
       "cardio                   1.00\n",
       "bmi                      0.17\n",
       "normal                   0.13\n",
       "overweight               0.04\n",
       "obese                    0.12\n",
       "male                     0.02\n",
       "chol_above normal        0.08\n",
       "chol_normal              0.20\n",
       "chol_well above normal   0.19\n",
       "gluc_above normal        0.05\n",
       "gluc_normal              0.09\n",
       "gluc_well above normal   0.07\n",
       "bp_crisis                0.08\n",
       "bp_hyper_1               0.08\n",
       "bp_hyper_2               0.40\n",
       "bp_lowest                0.03\n",
       "bp_normal                0.43\n",
       "Name: cardio, dtype: float64"
      ]
     },
     "execution_count": 351,
     "metadata": {},
     "output_type": "execute_result"
    }
   ],
   "source": [
    "target_corr = dummy_df.corr().abs()['cardio']\n",
    "target_corr\n",
    "#drop_cols = list(target_corr[target_corr < 0.033].index)\n",
    "#print(drop_cols)"
   ]
  },
  {
   "cell_type": "code",
   "execution_count": 352,
   "metadata": {},
   "outputs": [],
   "source": [
    "# rename columns to remove blank spaces\n",
    "rename_cols = {'chol_above normal':'chol_above_normal', 'chol_well above normal':'chol_well_above_normal',\n",
    "              'gluc_above normal':'gluc_above_normal', 'gluc_well above normal':'gluc_well_above_normal'}\n",
    "dummy_df.rename(rename_cols, axis= 1, inplace= True)"
   ]
  },
  {
   "cell_type": "code",
   "execution_count": 353,
   "metadata": {},
   "outputs": [],
   "source": [
    "#dummy_df.drop(columns=drop_cols, inplace=True)"
   ]
  },
  {
   "cell_type": "code",
   "execution_count": 354,
   "metadata": {},
   "outputs": [
    {
     "data": {
      "image/png": "[encoded data removed]",
      "text/plain": [
       "<Figure size 1152x720 with 2 Axes>"
      ]
     },
     "metadata": {},
     "output_type": "display_data"
    }
   ],
   "source": [
    "# check the columns for multi co-linearity\n",
    "mask = np.zeros_like(dummy_df.corr(), dtype=np.bool) \n",
    "mask[np.triu_indices_from(mask)] = True \n",
    "\n",
    "f, ax = plt.subplots(figsize=(16, 10))\n",
    "plt.title('Pearson Correlation Matrix',fontsize=10)\n",
    "\n",
    "sns.heatmap(dummy_df.corr().abs(),linewidths=0.25,vmax=0.9,square=True,cmap=\"BuGn\", #\"BuGn_r\" to reverse \n",
    "            linecolor='w',annot=True,annot_kws={\"size\":10},mask=mask,cbar_kws={\"shrink\": .9});\n",
    "plt.show()"
   ]
  },
  {
   "cell_type": "code",
   "execution_count": 355,
   "metadata": {},
   "outputs": [
    {
     "data": {
      "image/png": "[encoded data removed]",
      "text/plain": [
       "<Figure size 1440x576 with 3 Axes>"
      ]
     },
     "metadata": {},
     "output_type": "display_data"
    }
   ],
   "source": [
    "fig = plt.figure(figsize = (20,8))\n",
    "cont_cols = ['age','bmi','bp_high']\n",
    "\n",
    "for n in range(0,3):\n",
    "    ax = fig.add_subplot(1,3,n+1)\n",
    "    sns.boxplot(x = 'cardio', y= dummy_df[cont_cols[n]], data = dummy_df, \n",
    "                palette= 'GnBu_d', ax=ax).set_title(cont_cols[n].title() + ' : Presence/Absence of Disease')\n",
    "\n",
    "plt.show()"
   ]
  },
  {
   "cell_type": "markdown",
   "metadata": {},
   "source": [
    "## 5. Model Fitting and Hyperparameter Tuning\n",
    "___"
   ]
  },
  {
   "cell_type": "markdown",
   "metadata": {},
   "source": [
    "### Normalize the data\n",
    "* We need to scale the data before we start fitting models. This increases the performance of the models in general.\n",
    "* We will normalize the data frame except for the target variable."
   ]
  },
  {
   "cell_type": "code",
   "execution_count": 356,
   "metadata": {},
   "outputs": [],
   "source": [
    "# normalized = value - mean / standard deviation\n",
    "norm_df = (dummy_df - dummy_df.mean())/ dummy_df.std()\n",
    "norm_df['cardio'] = dummy_df['cardio']  # plug back in the original values for the target"
   ]
  },
  {
   "cell_type": "code",
   "execution_count": 357,
   "metadata": {},
   "outputs": [
    {
     "data": {
      "text/html": [
       "<div>\n",
       "<style scoped>\n",
       "    .dataframe tbody tr th:only-of-type {\n",
       "        vertical-align: middle;\n",
       "    }\n",
       "\n",
       "    .dataframe tbody tr th {\n",
       "        vertical-align: top;\n",
       "    }\n",
       "\n",
       "    .dataframe thead th {\n",
       "        text-align: right;\n",
       "    }\n",
       "</style>\n",
       "<table border=\"1\" class=\"dataframe\">\n",
       "  <thead>\n",
       "    <tr style=\"text-align: right;\">\n",
       "      <th></th>\n",
       "      <th>age</th>\n",
       "      <th>height</th>\n",
       "      <th>weight</th>\n",
       "      <th>bp_high</th>\n",
       "      <th>bp_low</th>\n",
       "      <th>smoke</th>\n",
       "      <th>alco</th>\n",
       "      <th>active</th>\n",
       "      <th>cardio</th>\n",
       "      <th>bmi</th>\n",
       "      <th>normal</th>\n",
       "      <th>overweight</th>\n",
       "      <th>obese</th>\n",
       "      <th>male</th>\n",
       "      <th>chol_above_normal</th>\n",
       "      <th>chol_normal</th>\n",
       "      <th>chol_well_above_normal</th>\n",
       "      <th>gluc_above_normal</th>\n",
       "      <th>gluc_normal</th>\n",
       "      <th>gluc_well_above_normal</th>\n",
       "      <th>bp_crisis</th>\n",
       "      <th>bp_hyper_1</th>\n",
       "      <th>bp_hyper_2</th>\n",
       "      <th>bp_lowest</th>\n",
       "      <th>bp_normal</th>\n",
       "    </tr>\n",
       "  </thead>\n",
       "  <tbody>\n",
       "    <tr>\n",
       "      <th>0</th>\n",
       "      <td>-1.75</td>\n",
       "      <td>0.16</td>\n",
       "      <td>0.47</td>\n",
       "      <td>2.04</td>\n",
       "      <td>1.98</td>\n",
       "      <td>3.18</td>\n",
       "      <td>-0.24</td>\n",
       "      <td>0.49</td>\n",
       "      <td>0</td>\n",
       "      <td>0.43</td>\n",
       "      <td>-0.82</td>\n",
       "      <td>1.23</td>\n",
       "      <td>-0.49</td>\n",
       "      <td>-0.76</td>\n",
       "      <td>-0.39</td>\n",
       "      <td>0.56</td>\n",
       "      <td>-0.34</td>\n",
       "      <td>3.70</td>\n",
       "      <td>-2.48</td>\n",
       "      <td>-0.28</td>\n",
       "      <td>-0.11</td>\n",
       "      <td>-0.38</td>\n",
       "      <td>1.74</td>\n",
       "      <td>-0.03</td>\n",
       "      <td>-1.26</td>\n",
       "    </tr>\n",
       "    <tr>\n",
       "      <th>1</th>\n",
       "      <td>-0.09</td>\n",
       "      <td>-0.23</td>\n",
       "      <td>0.30</td>\n",
       "      <td>-0.37</td>\n",
       "      <td>-0.12</td>\n",
       "      <td>-0.31</td>\n",
       "      <td>-0.24</td>\n",
       "      <td>0.49</td>\n",
       "      <td>1</td>\n",
       "      <td>0.50</td>\n",
       "      <td>-0.82</td>\n",
       "      <td>1.23</td>\n",
       "      <td>-0.49</td>\n",
       "      <td>-0.76</td>\n",
       "      <td>-0.39</td>\n",
       "      <td>0.56</td>\n",
       "      <td>-0.34</td>\n",
       "      <td>-0.27</td>\n",
       "      <td>0.40</td>\n",
       "      <td>-0.28</td>\n",
       "      <td>-0.11</td>\n",
       "      <td>-0.38</td>\n",
       "      <td>-0.57</td>\n",
       "      <td>-0.03</td>\n",
       "      <td>0.80</td>\n",
       "    </tr>\n",
       "    <tr>\n",
       "      <th>2</th>\n",
       "      <td>-0.39</td>\n",
       "      <td>0.03</td>\n",
       "      <td>-1.54</td>\n",
       "      <td>-2.18</td>\n",
       "      <td>-2.22</td>\n",
       "      <td>-0.31</td>\n",
       "      <td>-0.24</td>\n",
       "      <td>0.49</td>\n",
       "      <td>0</td>\n",
       "      <td>-1.75</td>\n",
       "      <td>1.22</td>\n",
       "      <td>-0.81</td>\n",
       "      <td>-0.49</td>\n",
       "      <td>-0.76</td>\n",
       "      <td>-0.39</td>\n",
       "      <td>-1.79</td>\n",
       "      <td>2.91</td>\n",
       "      <td>-0.27</td>\n",
       "      <td>-2.48</td>\n",
       "      <td>3.60</td>\n",
       "      <td>-0.11</td>\n",
       "      <td>-0.38</td>\n",
       "      <td>-0.57</td>\n",
       "      <td>-0.03</td>\n",
       "      <td>0.80</td>\n",
       "    </tr>\n",
       "    <tr>\n",
       "      <th>3</th>\n",
       "      <td>0.73</td>\n",
       "      <td>0.54</td>\n",
       "      <td>-0.14</td>\n",
       "      <td>0.83</td>\n",
       "      <td>0.93</td>\n",
       "      <td>-0.31</td>\n",
       "      <td>-0.24</td>\n",
       "      <td>0.49</td>\n",
       "      <td>0</td>\n",
       "      <td>-0.50</td>\n",
       "      <td>1.22</td>\n",
       "      <td>-0.81</td>\n",
       "      <td>-0.49</td>\n",
       "      <td>1.32</td>\n",
       "      <td>-0.39</td>\n",
       "      <td>0.56</td>\n",
       "      <td>-0.34</td>\n",
       "      <td>-0.27</td>\n",
       "      <td>0.40</td>\n",
       "      <td>-0.28</td>\n",
       "      <td>-0.11</td>\n",
       "      <td>-0.38</td>\n",
       "      <td>1.74</td>\n",
       "      <td>-0.03</td>\n",
       "      <td>-1.26</td>\n",
       "    </tr>\n",
       "    <tr>\n",
       "      <th>4</th>\n",
       "      <td>1.25</td>\n",
       "      <td>-1.39</td>\n",
       "      <td>-1.19</td>\n",
       "      <td>-0.98</td>\n",
       "      <td>-2.22</td>\n",
       "      <td>-0.31</td>\n",
       "      <td>-0.24</td>\n",
       "      <td>0.49</td>\n",
       "      <td>0</td>\n",
       "      <td>-0.51</td>\n",
       "      <td>1.22</td>\n",
       "      <td>-0.81</td>\n",
       "      <td>-0.49</td>\n",
       "      <td>-0.76</td>\n",
       "      <td>-0.39</td>\n",
       "      <td>0.56</td>\n",
       "      <td>-0.34</td>\n",
       "      <td>-0.27</td>\n",
       "      <td>0.40</td>\n",
       "      <td>-0.28</td>\n",
       "      <td>-0.11</td>\n",
       "      <td>-0.38</td>\n",
       "      <td>-0.57</td>\n",
       "      <td>-0.03</td>\n",
       "      <td>0.80</td>\n",
       "    </tr>\n",
       "  </tbody>\n",
       "</table>\n",
       "</div>"
      ],
      "text/plain": [
       "    age  height  weight  bp_high  bp_low  smoke  alco  active  cardio   bmi  \\\n",
       "0 -1.75    0.16    0.47     2.04    1.98   3.18 -0.24    0.49       0  0.43   \n",
       "1 -0.09   -0.23    0.30    -0.37   -0.12  -0.31 -0.24    0.49       1  0.50   \n",
       "2 -0.39    0.03   -1.54    -2.18   -2.22  -0.31 -0.24    0.49       0 -1.75   \n",
       "3  0.73    0.54   -0.14     0.83    0.93  -0.31 -0.24    0.49       0 -0.50   \n",
       "4  1.25   -1.39   -1.19    -0.98   -2.22  -0.31 -0.24    0.49       0 -0.51   \n",
       "\n",
       "   normal  overweight  obese  male  chol_above_normal  chol_normal  \\\n",
       "0   -0.82        1.23  -0.49 -0.76              -0.39         0.56   \n",
       "1   -0.82        1.23  -0.49 -0.76              -0.39         0.56   \n",
       "2    1.22       -0.81  -0.49 -0.76              -0.39        -1.79   \n",
       "3    1.22       -0.81  -0.49  1.32              -0.39         0.56   \n",
       "4    1.22       -0.81  -0.49 -0.76              -0.39         0.56   \n",
       "\n",
       "   chol_well_above_normal  gluc_above_normal  gluc_normal  \\\n",
       "0                   -0.34               3.70        -2.48   \n",
       "1                   -0.34              -0.27         0.40   \n",
       "2                    2.91              -0.27        -2.48   \n",
       "3                   -0.34              -0.27         0.40   \n",
       "4                   -0.34              -0.27         0.40   \n",
       "\n",
       "   gluc_well_above_normal  bp_crisis  bp_hyper_1  bp_hyper_2  bp_lowest  \\\n",
       "0                   -0.28      -0.11       -0.38        1.74      -0.03   \n",
       "1                   -0.28      -0.11       -0.38       -0.57      -0.03   \n",
       "2                    3.60      -0.11       -0.38       -0.57      -0.03   \n",
       "3                   -0.28      -0.11       -0.38        1.74      -0.03   \n",
       "4                   -0.28      -0.11       -0.38       -0.57      -0.03   \n",
       "\n",
       "   bp_normal  \n",
       "0      -1.26  \n",
       "1       0.80  \n",
       "2       0.80  \n",
       "3      -1.26  \n",
       "4       0.80  "
      ]
     },
     "execution_count": 357,
     "metadata": {},
     "output_type": "execute_result"
    }
   ],
   "source": [
    "norm_df.head()"
   ]
  },
  {
   "cell_type": "code",
   "execution_count": 358,
   "metadata": {},
   "outputs": [],
   "source": [
    "# Split data to be used in the models\n",
    "X = norm_df.drop(columns=['cardio','height','smoke','alco','bp_low','male','bp_lowest','bp_hyper_1','bp_high',\n",
    "                          'weight'], axis = 1) # , creating a matrix of features\n",
    "\n",
    "y = norm_df['cardio'] # y is the column we're trying to predict "
   ]
  },
  {
   "cell_type": "code",
   "execution_count": 359,
   "metadata": {},
   "outputs": [
    {
     "data": {
      "text/plain": [
       "0   0.52\n",
       "1   0.48\n",
       "Name: cardio, dtype: float64"
      ]
     },
     "execution_count": 359,
     "metadata": {},
     "output_type": "execute_result"
    }
   ],
   "source": [
    "y.value_counts(normalize=True)  # check the balance of the classes"
   ]
  },
  {
   "cell_type": "code",
   "execution_count": 360,
   "metadata": {},
   "outputs": [
    {
     "data": {
      "text/plain": [
       "(50865, 15)"
      ]
     },
     "execution_count": 360,
     "metadata": {},
     "output_type": "execute_result"
    }
   ],
   "source": [
    "X.shape"
   ]
  },
  {
   "cell_type": "code",
   "execution_count": 361,
   "metadata": {},
   "outputs": [
    {
     "data": {
      "text/html": [
       "<table class=\"simpletable\">\n",
       "<caption>OLS Regression Results</caption>\n",
       "<tr>\n",
       "  <th>Dep. Variable:</th>         <td>cardio</td>      <th>  R-squared:         </th> <td>   0.234</td> \n",
       "</tr>\n",
       "<tr>\n",
       "  <th>Model:</th>                   <td>OLS</td>       <th>  Adj. R-squared:    </th> <td>   0.234</td> \n",
       "</tr>\n",
       "<tr>\n",
       "  <th>Method:</th>             <td>Least Squares</td>  <th>  F-statistic:       </th> <td>   1947.</td> \n",
       "</tr>\n",
       "<tr>\n",
       "  <th>Date:</th>             <td>Thu, 01 Oct 2020</td> <th>  Prob (F-statistic):</th>  <td>  0.00</td>  \n",
       "</tr>\n",
       "<tr>\n",
       "  <th>Time:</th>                 <td>23:01:45</td>     <th>  Log-Likelihood:    </th> <td> -30091.</td> \n",
       "</tr>\n",
       "<tr>\n",
       "  <th>No. Observations:</th>      <td> 50865</td>      <th>  AIC:               </th> <td>6.020e+04</td>\n",
       "</tr>\n",
       "<tr>\n",
       "  <th>Df Residuals:</th>          <td> 50856</td>      <th>  BIC:               </th> <td>6.028e+04</td>\n",
       "</tr>\n",
       "<tr>\n",
       "  <th>Df Model:</th>              <td>     8</td>      <th>                     </th>     <td> </td>    \n",
       "</tr>\n",
       "<tr>\n",
       "  <th>Covariance Type:</th>      <td>nonrobust</td>    <th>                     </th>     <td> </td>    \n",
       "</tr>\n",
       "</table>\n",
       "<table class=\"simpletable\">\n",
       "<tr>\n",
       "             <td></td>               <th>coef</th>     <th>std err</th>      <th>t</th>      <th>P>|t|</th>  <th>[0.025</th>    <th>0.975]</th>  \n",
       "</tr>\n",
       "<tr>\n",
       "  <th>Intercept</th>              <td>    0.4829</td> <td>    0.002</td> <td>  249.073</td> <td> 0.000</td> <td>    0.479</td> <td>    0.487</td>\n",
       "</tr>\n",
       "<tr>\n",
       "  <th>age</th>                    <td>    0.0697</td> <td>    0.002</td> <td>   34.851</td> <td> 0.000</td> <td>    0.066</td> <td>    0.074</td>\n",
       "</tr>\n",
       "<tr>\n",
       "  <th>bmi</th>                    <td>    0.0307</td> <td>    0.003</td> <td>   10.348</td> <td> 0.000</td> <td>    0.025</td> <td>    0.037</td>\n",
       "</tr>\n",
       "<tr>\n",
       "  <th>bp_high</th>                <td>    0.2021</td> <td>    0.002</td> <td>   90.416</td> <td> 0.000</td> <td>    0.198</td> <td>    0.206</td>\n",
       "</tr>\n",
       "<tr>\n",
       "  <th>gluc_normal</th>            <td>    0.0081</td> <td>    0.002</td> <td>    3.786</td> <td> 0.000</td> <td>    0.004</td> <td>    0.012</td>\n",
       "</tr>\n",
       "<tr>\n",
       "  <th>chol_normal</th>            <td>   -0.0338</td> <td>    0.003</td> <td>  -13.303</td> <td> 0.000</td> <td>   -0.039</td> <td>   -0.029</td>\n",
       "</tr>\n",
       "<tr>\n",
       "  <th>bp_crisis</th>              <td>   -0.0459</td> <td>    0.002</td> <td>  -21.648</td> <td> 0.000</td> <td>   -0.050</td> <td>   -0.042</td>\n",
       "</tr>\n",
       "<tr>\n",
       "  <th>obese</th>                  <td>   -0.0065</td> <td>    0.003</td> <td>   -2.233</td> <td> 0.026</td> <td>   -0.012</td> <td>   -0.001</td>\n",
       "</tr>\n",
       "<tr>\n",
       "  <th>chol_well_above_normal</th> <td>    0.0353</td> <td>    0.003</td> <td>   14.126</td> <td> 0.000</td> <td>    0.030</td> <td>    0.040</td>\n",
       "</tr>\n",
       "</table>\n",
       "<table class=\"simpletable\">\n",
       "<tr>\n",
       "  <th>Omnibus:</th>       <td>18880.529</td> <th>  Durbin-Watson:     </th> <td>   1.995</td>\n",
       "</tr>\n",
       "<tr>\n",
       "  <th>Prob(Omnibus):</th>  <td> 0.000</td>   <th>  Jarque-Bera (JB):  </th> <td>2570.782</td>\n",
       "</tr>\n",
       "<tr>\n",
       "  <th>Skew:</th>           <td> 0.101</td>   <th>  Prob(JB):          </th> <td>    0.00</td>\n",
       "</tr>\n",
       "<tr>\n",
       "  <th>Kurtosis:</th>       <td> 1.917</td>   <th>  Cond. No.          </th> <td>    3.06</td>\n",
       "</tr>\n",
       "</table><br/><br/>Warnings:<br/>[1] Standard Errors assume that the covariance matrix of the errors is correctly specified."
      ],
      "text/plain": [
       "<class 'statsmodels.iolib.summary.Summary'>\n",
       "\"\"\"\n",
       "                            OLS Regression Results                            \n",
       "==============================================================================\n",
       "Dep. Variable:                 cardio   R-squared:                       0.234\n",
       "Model:                            OLS   Adj. R-squared:                  0.234\n",
       "Method:                 Least Squares   F-statistic:                     1947.\n",
       "Date:                Thu, 01 Oct 2020   Prob (F-statistic):               0.00\n",
       "Time:                        23:01:45   Log-Likelihood:                -30091.\n",
       "No. Observations:               50865   AIC:                         6.020e+04\n",
       "Df Residuals:                   50856   BIC:                         6.028e+04\n",
       "Df Model:                           8                                         \n",
       "Covariance Type:            nonrobust                                         \n",
       "==========================================================================================\n",
       "                             coef    std err          t      P>|t|      [0.025      0.975]\n",
       "------------------------------------------------------------------------------------------\n",
       "Intercept                  0.4829      0.002    249.073      0.000       0.479       0.487\n",
       "age                        0.0697      0.002     34.851      0.000       0.066       0.074\n",
       "bmi                        0.0307      0.003     10.348      0.000       0.025       0.037\n",
       "bp_high                    0.2021      0.002     90.416      0.000       0.198       0.206\n",
       "gluc_normal                0.0081      0.002      3.786      0.000       0.004       0.012\n",
       "chol_normal               -0.0338      0.003    -13.303      0.000      -0.039      -0.029\n",
       "bp_crisis                 -0.0459      0.002    -21.648      0.000      -0.050      -0.042\n",
       "obese                     -0.0065      0.003     -2.233      0.026      -0.012      -0.001\n",
       "chol_well_above_normal     0.0353      0.003     14.126      0.000       0.030       0.040\n",
       "==============================================================================\n",
       "Omnibus:                    18880.529   Durbin-Watson:                   1.995\n",
       "Prob(Omnibus):                  0.000   Jarque-Bera (JB):             2570.782\n",
       "Skew:                           0.101   Prob(JB):                         0.00\n",
       "Kurtosis:                       1.917   Cond. No.                         3.06\n",
       "==============================================================================\n",
       "\n",
       "Warnings:\n",
       "[1] Standard Errors assume that the covariance matrix of the errors is correctly specified.\n",
       "\"\"\""
      ]
     },
     "execution_count": 361,
     "metadata": {},
     "output_type": "execute_result"
    }
   ],
   "source": [
    "from statsmodels.formula.api import ols\n",
    "\n",
    "lr_model = ols(formula='cardio~age+bmi+bp_high+gluc_normal+chol_normal+bp_crisis+obese+chol_well_above_normal',\n",
    "               data=norm_df).fit()\n",
    "lr_model.summary()"
   ]
  },
  {
   "cell_type": "code",
   "execution_count": 362,
   "metadata": {},
   "outputs": [],
   "source": [
    "# split the train data further into a train and a test set\n",
    "from sklearn.model_selection import train_test_split\n",
    "\n",
    "X_train, X_test, y_train, y_test = train_test_split(X, y, test_size=0.25, random_state=23, )"
   ]
  },
  {
   "cell_type": "markdown",
   "metadata": {},
   "source": [
    "* We will use Grid Search for all our models to find the best hyperparameters.\n",
    "* We will focus on the recall value for our scoring metric. Since, we want to minimize the number of positive cases (heart disease present) that we fail to correctly predict.\n",
    "* We can try to change the prediction threshold as well in order to increase recall, even if that means we decrease our overall accuracy, since increasing recall would decrease precision.\n",
    "### Logistic Regression Classifier\n",
    "___\n"
   ]
  },
  {
   "cell_type": "code",
   "execution_count": 363,
   "metadata": {},
   "outputs": [],
   "source": [
    "from sklearn.linear_model import LogisticRegression\n",
    "from sklearn.linear_model import LogisticRegressionCV\n",
    "\n",
    "from sklearn.model_selection import GridSearchCV\n",
    "\n",
    "from sklearn.preprocessing import PolynomialFeatures\n",
    "from sklearn.metrics import accuracy_score, f1_score, recall_score, precision_score"
   ]
  },
  {
   "cell_type": "code",
   "execution_count": 386,
   "metadata": {},
   "outputs": [],
   "source": [
    "lr = LogisticRegression()  # instantiate the model object\n",
    "\n",
    "param_dict={'solver':['liblinear','lbgfs'], 'C': [0.5, 0.6, 0.7],\n",
    "           'penalty': ['l1','l2']}  # set parameters to be searched through\n",
    "\n",
    "#create the instance of GridSearchCV using the recall metric for our scoring. \n",
    "grid_tree= GridSearchCV(lr, param_dict, cv=5, scoring='recall', verbose=1, n_jobs=-1)"
   ]
  },
  {
   "cell_type": "code",
   "execution_count": 387,
   "metadata": {},
   "outputs": [
    {
     "name": "stdout",
     "output_type": "stream",
     "text": [
      "Fitting 5 folds for each of 12 candidates, totalling 60 fits\n"
     ]
    },
    {
     "name": "stderr",
     "output_type": "stream",
     "text": [
      "[Parallel(n_jobs=-1)]: Using backend LokyBackend with 4 concurrent workers.\n",
      "[Parallel(n_jobs=-1)]: Done  42 tasks      | elapsed:    5.9s\n",
      "[Parallel(n_jobs=-1)]: Done  60 out of  60 | elapsed:    6.4s finished\n"
     ]
    },
    {
     "data": {
      "text/plain": [
       "GridSearchCV(cv=5, estimator=LogisticRegression(), n_jobs=-1,\n",
       "             param_grid={'C': [0.5, 0.6, 0.7], 'penalty': ['l1', 'l2'],\n",
       "                         'solver': ['liblinear', 'lbgfs']},\n",
       "             scoring='recall', verbose=1)"
      ]
     },
     "execution_count": 387,
     "metadata": {},
     "output_type": "execute_result"
    }
   ],
   "source": [
    "#fit the Gridsearch to our data\n",
    "grid_tree.fit(X_train,y_train)"
   ]
  },
  {
   "cell_type": "code",
   "execution_count": 388,
   "metadata": {},
   "outputs": [
    {
     "name": "stdout",
     "output_type": "stream",
     "text": [
      "0.6207491371543975\n",
      "{'C': 0.5, 'penalty': 'l2', 'solver': 'liblinear'}\n",
      "LogisticRegression(C=0.5, solver='liblinear')\n"
     ]
    }
   ],
   "source": [
    "print(grid_tree.best_score_)  # outputs the best metric score\n",
    "\n",
    "print(grid_tree.best_params_)  # outputs the parameters with best result\n",
    "\n",
    "print(grid_tree.best_estimator_)  # outputs the model with the best parameters"
   ]
  },
  {
   "cell_type": "code",
   "execution_count": 389,
   "metadata": {},
   "outputs": [
    {
     "name": "stdout",
     "output_type": "stream",
     "text": [
      "Train Recall:  0.6210730864730649\n",
      "Test Recall: 0.6270709078860173 \n",
      "\n",
      "Test F1: 0.6904414447282013\n"
     ]
    }
   ],
   "source": [
    "train_pred = grid_tree.best_estimator_.predict(X_train)  # predict on the train set\n",
    "y_pred = grid_tree.best_estimator_.predict(X_test)  # predict on the test set\n",
    "\n",
    "print('Train Recall: ', recall_score(y_train, train_pred ))\n",
    "print(\"Test Recall:\", recall_score(y_test, y_pred), '\\n')\n",
    "print(\"Test F1:\", f1_score(y_test, y_pred))"
   ]
  },
  {
   "cell_type": "code",
   "execution_count": 390,
   "metadata": {},
   "outputs": [
    {
     "data": {
      "text/plain": [
       "{'LogReg': 0.6210730864730649}"
      ]
     },
     "execution_count": 390,
     "metadata": {},
     "output_type": "execute_result"
    }
   ],
   "source": [
    "recalls = {'LogReg': recall_score(y_train, train_pred )}"
   ]
  },
  {
   "cell_type": "code",
   "execution_count": 368,
   "metadata": {
    "scrolled": false
   },
   "outputs": [],
   "source": [
    "lr_coefs = pd.DataFrame(data = grid_tree.best_estimator_.coef_[0], index = X_test.columns, columns= ['coef'])"
   ]
  },
  {
   "cell_type": "code",
   "execution_count": 369,
   "metadata": {},
   "outputs": [
    {
     "data": {
      "image/png": "[encoded data removed]",
      "text/plain": [
       "<Figure size 1440x720 with 1 Axes>"
      ]
     },
     "metadata": {},
     "output_type": "display_data"
    }
   ],
   "source": [
    "plt.figure(figsize= (20,10))\n",
    "sns.barplot(x = lr_coefs.index, y = lr_coefs['coef'],)\n",
    "plt.ylabel('Value')\n",
    "plt.xlabel('Features')\n",
    "plt.title('Feature Co-efficients of Logistic Regression')\n",
    "plt.xticks(rotation = 'vertical')\n",
    "plt.savefig('feat_coef_logreg.png')"
   ]
  },
  {
   "cell_type": "markdown",
   "metadata": {},
   "source": [
    "### Decision-Tree Classifier\n",
    "___"
   ]
  },
  {
   "cell_type": "code",
   "execution_count": 370,
   "metadata": {},
   "outputs": [],
   "source": [
    "from sklearn.tree import DecisionTreeClassifier"
   ]
  },
  {
   "cell_type": "code",
   "execution_count": 391,
   "metadata": {},
   "outputs": [],
   "source": [
    "decision_tree = DecisionTreeClassifier(random_state=1)"
   ]
  },
  {
   "cell_type": "code",
   "execution_count": 392,
   "metadata": {},
   "outputs": [],
   "source": [
    "# creating our parameters to test\n",
    "param_dict={'max_depth': [4,5,6], 'min_samples_leaf':[350,375,400], 'criterion': ['gini','entropy'],\n",
    "           'max_features': range(10,16)}"
   ]
  },
  {
   "cell_type": "code",
   "execution_count": 393,
   "metadata": {},
   "outputs": [],
   "source": [
    "#create the instance of GridSearchCV using the recall metric for our scoring. \n",
    "grid_tree= GridSearchCV(decision_tree, param_dict, cv=5, scoring='recall', verbose=1, n_jobs=-1)"
   ]
  },
  {
   "cell_type": "code",
   "execution_count": 394,
   "metadata": {},
   "outputs": [
    {
     "name": "stdout",
     "output_type": "stream",
     "text": [
      "Fitting 5 folds for each of 108 candidates, totalling 540 fits\n"
     ]
    },
    {
     "name": "stderr",
     "output_type": "stream",
     "text": [
      "[Parallel(n_jobs=-1)]: Using backend LokyBackend with 4 concurrent workers.\n",
      "[Parallel(n_jobs=-1)]: Done  76 tasks      | elapsed:    1.5s\n",
      "[Parallel(n_jobs=-1)]: Done 376 tasks      | elapsed:    7.0s\n",
      "[Parallel(n_jobs=-1)]: Done 540 out of 540 | elapsed:   10.3s finished\n"
     ]
    },
    {
     "data": {
      "text/plain": [
       "GridSearchCV(cv=5, estimator=DecisionTreeClassifier(random_state=1), n_jobs=-1,\n",
       "             param_grid={'criterion': ['gini', 'entropy'],\n",
       "                         'max_depth': [4, 5, 6], 'max_features': range(10, 16),\n",
       "                         'min_samples_leaf': [350, 375, 400]},\n",
       "             scoring='recall', verbose=1)"
      ]
     },
     "execution_count": 394,
     "metadata": {},
     "output_type": "execute_result"
    }
   ],
   "source": [
    "#fit the Gridsearch to our data\n",
    "grid_tree.fit(X_train,y_train)"
   ]
  },
  {
   "cell_type": "code",
   "execution_count": 395,
   "metadata": {},
   "outputs": [
    {
     "name": "stdout",
     "output_type": "stream",
     "text": [
      "0.7154270457579458\n",
      "{'criterion': 'entropy', 'max_depth': 4, 'max_features': 10, 'min_samples_leaf': 350}\n",
      "DecisionTreeClassifier(criterion='entropy', max_depth=4, max_features=10,\n",
      "                       min_samples_leaf=350, random_state=1)\n"
     ]
    }
   ],
   "source": [
    "print(grid_tree.best_score_)\n",
    "print(grid_tree.best_params_)\n",
    "print(grid_tree.best_estimator_)"
   ]
  },
  {
   "cell_type": "code",
   "execution_count": 396,
   "metadata": {},
   "outputs": [
    {
     "name": "stdout",
     "output_type": "stream",
     "text": [
      "Test f1: 0.7185548988595688 \n",
      "\n",
      "Train recall:  0.7040375688221958\n",
      "Test recall: 0.7150430748840292\n"
     ]
    }
   ],
   "source": [
    "train_pred = grid_tree.best_estimator_.predict(X_train)\n",
    "y_pred = grid_tree.best_estimator_.predict(X_test)\n",
    "\n",
    "print(\"Test f1:\", f1_score(y_test, y_pred), '\\n')\n",
    "\n",
    "print('Train recall: ', recall_score(y_train, train_pred ))\n",
    "print(\"Test recall:\", recall_score(y_test, y_pred))"
   ]
  },
  {
   "cell_type": "code",
   "execution_count": 398,
   "metadata": {},
   "outputs": [
    {
     "data": {
      "text/plain": [
       "{'LogReg': 0.6210730864730649, 'Decision_Tree': 0.7150430748840292}"
      ]
     },
     "execution_count": 398,
     "metadata": {},
     "output_type": "execute_result"
    }
   ],
   "source": [
    "recalls['Decision_Tree'] = recall_score(y_test, y_pred)\n",
    "recalls"
   ]
  },
  {
   "cell_type": "markdown",
   "metadata": {},
   "source": [
    "### KNN Classifier\n",
    "___"
   ]
  },
  {
   "cell_type": "code",
   "execution_count": 51,
   "metadata": {},
   "outputs": [],
   "source": [
    "from sklearn.neighbors import KNeighborsClassifier\n",
    "knn = KNeighborsClassifier()"
   ]
  },
  {
   "cell_type": "code",
   "execution_count": 399,
   "metadata": {},
   "outputs": [],
   "source": [
    "param_dict = {'n_neighbors': [3,5,7,9], 'metric': ['manhattan']}"
   ]
  },
  {
   "cell_type": "code",
   "execution_count": 400,
   "metadata": {},
   "outputs": [],
   "source": [
    "grid_tree= GridSearchCV(knn, param_dict, cv=5, scoring='recall', verbose=1, n_jobs=-1)"
   ]
  },
  {
   "cell_type": "code",
   "execution_count": 401,
   "metadata": {},
   "outputs": [
    {
     "name": "stdout",
     "output_type": "stream",
     "text": [
      "Fitting 5 folds for each of 4 candidates, totalling 20 fits\n"
     ]
    },
    {
     "name": "stderr",
     "output_type": "stream",
     "text": [
      "[Parallel(n_jobs=-1)]: Using backend LokyBackend with 4 concurrent workers.\n",
      "[Parallel(n_jobs=-1)]: Done  20 out of  20 | elapsed:   42.3s finished\n"
     ]
    },
    {
     "data": {
      "text/plain": [
       "GridSearchCV(cv=5, estimator=KNeighborsClassifier(), n_jobs=-1,\n",
       "             param_grid={'metric': ['manhattan'], 'n_neighbors': [3, 5, 7, 9]},\n",
       "             scoring='recall', verbose=1)"
      ]
     },
     "execution_count": 401,
     "metadata": {},
     "output_type": "execute_result"
    }
   ],
   "source": [
    "grid_tree.fit(X_train, y_train)"
   ]
  },
  {
   "cell_type": "code",
   "execution_count": 402,
   "metadata": {},
   "outputs": [
    {
     "name": "stdout",
     "output_type": "stream",
     "text": [
      "0.6746197907904387\n",
      "{'metric': 'manhattan', 'n_neighbors': 7}\n",
      "KNeighborsClassifier(metric='manhattan', n_neighbors=7)\n"
     ]
    }
   ],
   "source": [
    "print(grid_tree.best_score_)\n",
    "print(grid_tree.best_params_)\n",
    "print(grid_tree.best_estimator_)"
   ]
  },
  {
   "cell_type": "code",
   "execution_count": 403,
   "metadata": {},
   "outputs": [
    {
     "name": "stdout",
     "output_type": "stream",
     "text": [
      "Train Recall:  0.7396091978840549\n",
      "Test Recall: 0.6766070245195493 \n",
      "\n",
      "Test F1: 0.6872528397139251\n"
     ]
    }
   ],
   "source": [
    "y_pred = grid_tree.best_estimator_.predict(X_test)\n",
    "train_pred = grid_tree.best_estimator_.predict(X_train)\n",
    "\n",
    "print('Train Recall: ', recall_score(y_train, train_pred ))\n",
    "print(\"Test Recall:\", recall_score(y_test, y_pred), '\\n')\n",
    "print(\"Test F1:\", f1_score(y_test, y_pred))"
   ]
  },
  {
   "cell_type": "code",
   "execution_count": 405,
   "metadata": {},
   "outputs": [
    {
     "data": {
      "text/plain": [
       "{'LogReg': 0.6210730864730649,\n",
       " 'Decision_Tree': 0.7150430748840292,\n",
       " 'knn': 0.6766070245195493}"
      ]
     },
     "execution_count": 405,
     "metadata": {},
     "output_type": "execute_result"
    }
   ],
   "source": [
    "recalls['knn'] = recall_score(y_test, y_pred)\n",
    "recalls"
   ]
  },
  {
   "cell_type": "markdown",
   "metadata": {},
   "source": [
    "### Random Forest Classifier\n",
    "___"
   ]
  },
  {
   "cell_type": "code",
   "execution_count": 178,
   "metadata": {},
   "outputs": [],
   "source": [
    "from sklearn.ensemble import RandomForestClassifier"
   ]
  },
  {
   "cell_type": "code",
   "execution_count": 179,
   "metadata": {},
   "outputs": [],
   "source": [
    "rf = RandomForestClassifier()"
   ]
  },
  {
   "cell_type": "code",
   "execution_count": 180,
   "metadata": {},
   "outputs": [],
   "source": [
    "param_grid = { \n",
    "    'n_estimators': [200,300],\n",
    "    'criterion': ['gini', 'entropy'],\n",
    "    'max_depth': [4,6,8],\n",
    "    'max_features': list(range(10,16))\n",
    "}"
   ]
  },
  {
   "cell_type": "code",
   "execution_count": 181,
   "metadata": {},
   "outputs": [],
   "source": [
    "grid_tree=GridSearchCV(rf, param_grid, cv=5, scoring='recall', verbose=1, n_jobs=-1)"
   ]
  },
  {
   "cell_type": "code",
   "execution_count": 182,
   "metadata": {},
   "outputs": [
    {
     "name": "stdout",
     "output_type": "stream",
     "text": [
      "Fitting 5 folds for each of 72 candidates, totalling 360 fits\n"
     ]
    },
    {
     "name": "stderr",
     "output_type": "stream",
     "text": [
      "[Parallel(n_jobs=-1)]: Using backend LokyBackend with 4 concurrent workers.\n",
      "[Parallel(n_jobs=-1)]: Done  42 tasks      | elapsed:  1.8min\n",
      "[Parallel(n_jobs=-1)]: Done 192 tasks      | elapsed: 13.4min\n",
      "[Parallel(n_jobs=-1)]: Done 360 out of 360 | elapsed: 27.1min finished\n"
     ]
    },
    {
     "data": {
      "text/plain": [
       "GridSearchCV(cv=5, estimator=RandomForestClassifier(), n_jobs=-1,\n",
       "             param_grid={'criterion': ['gini', 'entropy'],\n",
       "                         'max_depth': [4, 6, 8],\n",
       "                         'max_features': [10, 11, 12, 13, 14, 15],\n",
       "                         'n_estimators': [200, 300]},\n",
       "             scoring='recall', verbose=1)"
      ]
     },
     "execution_count": 182,
     "metadata": {},
     "output_type": "execute_result"
    }
   ],
   "source": [
    "grid_tree.fit(X_train, y_train)"
   ]
  },
  {
   "cell_type": "code",
   "execution_count": 183,
   "metadata": {},
   "outputs": [
    {
     "name": "stdout",
     "output_type": "stream",
     "text": [
      "0.7055488382627872\n",
      "{'criterion': 'gini', 'max_depth': 4, 'max_features': 15, 'n_estimators': 300}\n",
      "RandomForestClassifier(max_depth=4, max_features=15, n_estimators=300)\n"
     ]
    }
   ],
   "source": [
    "print(grid_tree.best_score_)\n",
    "print(grid_tree.best_params_)\n",
    "print(grid_tree.best_estimator_)"
   ]
  },
  {
   "cell_type": "code",
   "execution_count": 184,
   "metadata": {
    "scrolled": true
   },
   "outputs": [
    {
     "name": "stdout",
     "output_type": "stream",
     "text": [
      "Train Recall:  0.7065205656914606\n",
      "Test Recall: 0.7162027833001988 \n",
      "\n",
      "Test F1: 0.7187629894421814\n"
     ]
    }
   ],
   "source": [
    "y_pred = grid_tree.best_estimator_.predict(X_test)\n",
    "train_pred = grid_tree.best_estimator_.predict(X_train)\n",
    "\n",
    "print('Train Recall: ', recall_score(y_train, train_pred ))\n",
    "print(\"Test Recall:\", recall_score(y_test, y_pred), '\\n')\n",
    "print(\"Test F1:\", f1_score(y_test, y_pred))"
   ]
  },
  {
   "cell_type": "code",
   "execution_count": 406,
   "metadata": {},
   "outputs": [
    {
     "data": {
      "text/plain": [
       "{'LogReg': 0.6210730864730649,\n",
       " 'Decision_Tree': 0.7150430748840292,\n",
       " 'knn': 0.6766070245195493,\n",
       " 'random_forest': 0.71620278}"
      ]
     },
     "execution_count": 406,
     "metadata": {},
     "output_type": "execute_result"
    }
   ],
   "source": [
    "recalls['random_forest'] = 0.71620278\n",
    "recalls"
   ]
  },
  {
   "cell_type": "markdown",
   "metadata": {},
   "source": [
    "### Voting Classifier\n",
    "___"
   ]
  },
  {
   "cell_type": "markdown",
   "metadata": {},
   "source": [
    "* We will combine our best models into a voting classifer to see if the results improve"
   ]
  },
  {
   "cell_type": "code",
   "execution_count": 377,
   "metadata": {},
   "outputs": [],
   "source": [
    "from sklearn.ensemble import VotingClassifier"
   ]
  },
  {
   "cell_type": "code",
   "execution_count": 378,
   "metadata": {},
   "outputs": [],
   "source": [
    "# instantiate the best model objects\n",
    "lr_clf = LogisticRegression(C=0.6, solver='liblinear')\n",
    "\n",
    "dct_clf = DecisionTreeClassifier(criterion='entropy', max_depth=4, max_features=10,\n",
    "                       min_samples_leaf=350, random_state=1)\n",
    "knn_clf = KNeighborsClassifier(metric='manhattan', n_neighbors=9)\n",
    "\n",
    "rf_clf = RandomForestClassifier(max_depth=6, max_features=12, n_estimators=200, criterion='gini')"
   ]
  },
  {
   "cell_type": "code",
   "execution_count": 379,
   "metadata": {},
   "outputs": [
    {
     "name": "stdout",
     "output_type": "stream",
     "text": [
      "Train Recall:  0.702094353881032\n",
      "Test Recall: 0.7104042412193505 \n",
      "\n",
      "Test F1: 0.71916142557652\n"
     ]
    }
   ],
   "source": [
    "# put in different combinations of the best models to see which yeilds the best results\n",
    "voting_clf = VotingClassifier(\n",
    "                estimators=[('decisiontree', dct_clf),\n",
    "                            ('RandomForest', rf_clf)], voting='soft')\n",
    "\n",
    "voting_clf.fit(X_train, y_train)\n",
    "\n",
    "y_pred = voting_clf.predict(X_test)\n",
    "train_pred = voting_clf.predict(X_train)\n",
    "\n",
    "print('Train Recall: ', recall_score(y_train, train_pred ))\n",
    "print(\"Test Recall:\", recall_score(y_test, y_pred), '\\n')\n",
    "print(\"Test F1:\", f1_score(y_test, y_pred))"
   ]
  },
  {
   "cell_type": "code",
   "execution_count": 407,
   "metadata": {},
   "outputs": [
    {
     "data": {
      "text/plain": [
       "{'LogReg': 0.6210730864730649,\n",
       " 'Decision_Tree': 0.7150430748840292,\n",
       " 'knn': 0.6766070245195493,\n",
       " 'random_forest': 0.71620278,\n",
       " 'voting_clf': 0.71040424}"
      ]
     },
     "execution_count": 407,
     "metadata": {},
     "output_type": "execute_result"
    }
   ],
   "source": [
    "recalls['voting_clf'] = 0.71040424\n",
    "recalls"
   ]
  },
  {
   "cell_type": "markdown",
   "metadata": {},
   "source": [
    "## Final Model\n",
    "___"
   ]
  },
  {
   "cell_type": "markdown",
   "metadata": {},
   "source": [
    "From all the recall scores above, we can conclude that the decision tree is the best model. Therefore, we will refit the entire train data set to that model. Here is the recap of the recall scores for the different models:"
   ]
  },
  {
   "cell_type": "code",
   "execution_count": 425,
   "metadata": {},
   "outputs": [
    {
     "data": {
      "text/html": [
       "<div>\n",
       "<style scoped>\n",
       "    .dataframe tbody tr th:only-of-type {\n",
       "        vertical-align: middle;\n",
       "    }\n",
       "\n",
       "    .dataframe tbody tr th {\n",
       "        vertical-align: top;\n",
       "    }\n",
       "\n",
       "    .dataframe thead th {\n",
       "        text-align: right;\n",
       "    }\n",
       "</style>\n",
       "<table border=\"1\" class=\"dataframe\">\n",
       "  <thead>\n",
       "    <tr style=\"text-align: right;\">\n",
       "      <th></th>\n",
       "      <th>Recall Score</th>\n",
       "    </tr>\n",
       "  </thead>\n",
       "  <tbody>\n",
       "    <tr>\n",
       "      <th>LogReg</th>\n",
       "      <td>0.621</td>\n",
       "    </tr>\n",
       "    <tr>\n",
       "      <th>Decision_Tree</th>\n",
       "      <td>0.715</td>\n",
       "    </tr>\n",
       "    <tr>\n",
       "      <th>knn</th>\n",
       "      <td>0.677</td>\n",
       "    </tr>\n",
       "    <tr>\n",
       "      <th>random_forest</th>\n",
       "      <td>0.716</td>\n",
       "    </tr>\n",
       "    <tr>\n",
       "      <th>voting_clf</th>\n",
       "      <td>0.710</td>\n",
       "    </tr>\n",
       "  </tbody>\n",
       "</table>\n",
       "</div>"
      ],
      "text/plain": [
       "               Recall Score\n",
       "LogReg                0.621\n",
       "Decision_Tree         0.715\n",
       "knn                   0.677\n",
       "random_forest         0.716\n",
       "voting_clf            0.710"
      ]
     },
     "execution_count": 425,
     "metadata": {},
     "output_type": "execute_result"
    }
   ],
   "source": [
    "scores = pd.DataFrame.from_dict(recalls, orient='index', columns=['Recall Score'])\n",
    "scores"
   ]
  },
  {
   "cell_type": "code",
   "execution_count": 414,
   "metadata": {},
   "outputs": [],
   "source": [
    "from sklearn import metrics\n",
    "\n",
    "pd.set_option('display.float_format', lambda x: '%.3f' % x)  # avoid outputing scientific notation\n",
    "\n",
    "final_dct = DecisionTreeClassifier(criterion='entropy', max_depth=4, max_features=10, \n",
    "                       min_samples_leaf=350, random_state=1)"
   ]
  },
  {
   "cell_type": "code",
   "execution_count": 415,
   "metadata": {},
   "outputs": [
    {
     "name": "stdout",
     "output_type": "stream",
     "text": [
      " Test Recall:  0.7067828352740005 \n",
      "\n",
      "[[19728  6575]\n",
      " [ 7202 17360]]\n"
     ]
    }
   ],
   "source": [
    "final_dct.fit(X, y)  # fit the model on the entire training set\n",
    "\n",
    "y_pred = final_dct.predict(X)  # make predictions on the target variable\n",
    "\n",
    "print(\" Test Recall: \", recall_score(y, y_pred), '\\n')\n",
    "print(metrics.confusion_matrix(y, y_pred))"
   ]
  },
  {
   "cell_type": "markdown",
   "metadata": {},
   "source": [
    "### Adjusting the classification threshold\n",
    "* We can now adjust the threshold to see what is the trade off between recall and precision for different levels of threshold."
   ]
  },
  {
   "cell_type": "code",
   "execution_count": 417,
   "metadata": {},
   "outputs": [
    {
     "data": {
      "text/html": [
       "<div>\n",
       "<style scoped>\n",
       "    .dataframe tbody tr th:only-of-type {\n",
       "        vertical-align: middle;\n",
       "    }\n",
       "\n",
       "    .dataframe tbody tr th {\n",
       "        vertical-align: top;\n",
       "    }\n",
       "\n",
       "    .dataframe thead th {\n",
       "        text-align: right;\n",
       "    }\n",
       "</style>\n",
       "<table border=\"1\" class=\"dataframe\">\n",
       "  <thead>\n",
       "    <tr style=\"text-align: right;\">\n",
       "      <th></th>\n",
       "      <th>36%_threshold</th>\n",
       "    </tr>\n",
       "  </thead>\n",
       "  <tbody>\n",
       "    <tr>\n",
       "      <th>recall</th>\n",
       "      <td>0.841</td>\n",
       "    </tr>\n",
       "    <tr>\n",
       "      <th>accuracy</th>\n",
       "      <td>0.686</td>\n",
       "    </tr>\n",
       "    <tr>\n",
       "      <th>precision</th>\n",
       "      <td>0.631</td>\n",
       "    </tr>\n",
       "  </tbody>\n",
       "</table>\n",
       "</div>"
      ],
      "text/plain": [
       "           36%_threshold\n",
       "recall             0.841\n",
       "accuracy           0.686\n",
       "precision          0.631"
      ]
     },
     "execution_count": 417,
     "metadata": {},
     "output_type": "execute_result"
    }
   ],
   "source": [
    "THRESHOLD = 0.36  # adjust the threshold\n",
    "y_pred = np.where(final_dct.predict_proba(X)[:,1] > THRESHOLD, 1, 0)  # make predictions based on threshold\n",
    "\n",
    "# save the scoring metrics in a dataframe\n",
    "pd.DataFrame(data=[recall_score(y, y_pred),accuracy_score(y, y_pred),precision_score(y, y_pred)], \n",
    "             index=[\"recall\", \"accuracy\",\"precision\"],columns=['36%_threshold'])"
   ]
  },
  {
   "cell_type": "code",
   "execution_count": 418,
   "metadata": {},
   "outputs": [
    {
     "name": "stdout",
     "output_type": "stream",
     "text": [
      "[[14241 12062]\n",
      " [ 3907 20655]]\n"
     ]
    }
   ],
   "source": [
    "print(metrics.confusion_matrix(y, y_pred))"
   ]
  },
  {
   "cell_type": "markdown",
   "metadata": {},
   "source": [
    "* _20655_ patients were **_correctly_** predicted as having a heart condition.\n",
    "* _3907_ patients were **_incorrectly_** predicted as not having a heart condition.\n",
    "\n",
    "\n",
    "* However, _12062_ patients were **_incorrectly_** predicted as having a heart condition."
   ]
  },
  {
   "cell_type": "code",
   "execution_count": 384,
   "metadata": {},
   "outputs": [
    {
     "name": "stdout",
     "output_type": "stream",
     "text": [
      "[0.12506165 0.         0.00085584 0.         0.         0.\n",
      " 0.         0.         0.08520231 0.         0.00107098 0.00821434\n",
      " 0.01531254 0.08250721 0.68177513]\n"
     ]
    }
   ],
   "source": [
    "print(final_dct.feature_importances_)  # check the feature importances"
   ]
  },
  {
   "cell_type": "code",
   "execution_count": 200,
   "metadata": {},
   "outputs": [],
   "source": [
    "import pickle\n",
    "\n",
    "pickle_out = open(\"DecisionTree.pickle\",\"wb\")\n",
    "pickle.dump(final_dct, pickle_out)\n",
    "pickle_out.close()"
   ]
  },
  {
   "cell_type": "markdown",
   "metadata": {},
   "source": [
    "___"
   ]
  }
 ],
 "metadata": {
  "kernelspec": {
   "display_name": "Python 3",
   "language": "python",
   "name": "python3"
  },
  "language_info": {
   "codemirror_mode": {
    "name": "ipython",
    "version": 3
   },
   "file_extension": ".py",
   "mimetype": "text/x-python",
   "name": "python",
   "nbconvert_exporter": "python",
   "pygments_lexer": "ipython3",
   "version": "3.8.3"
  }
 },
 "nbformat": 4,
 "nbformat_minor": 4
}
