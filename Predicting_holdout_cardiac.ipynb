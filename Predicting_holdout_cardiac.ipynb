{
 "cells": [
  {
   "cell_type": "markdown",
   "metadata": {},
   "source": [
    "# Predicting on the holdout data\n",
    "___"
   ]
  },
  {
   "cell_type": "code",
   "execution_count": 1,
   "metadata": {},
   "outputs": [],
   "source": [
    "# import the libraries necessarry for cleaning and eda\n",
    "import numpy as np\n",
    "import pandas as pd\n",
    "import matplotlib.pyplot as plt\n",
    "%matplotlib inline\n",
    "\n",
    "import seaborn as sns\n",
    "sns.set(style='white')\n",
    "plt.style.use('seaborn')\n",
    "\n",
    "pd.set_option('display.max_columns', 100)  # display max rows and columns\n",
    "pd.set_option('display.max_rows', 100)\n",
    "pd.set_option('display.float_format', lambda x: '%.3f' % x)  # avoid outputing scientific notation"
   ]
  },
  {
   "cell_type": "code",
   "execution_count": 2,
   "metadata": {},
   "outputs": [
    {
     "name": "stdout",
     "output_type": "stream",
     "text": [
      "(12717, 13)\n"
     ]
    },
    {
     "data": {
      "text/html": [
       "<div>\n",
       "<style scoped>\n",
       "    .dataframe tbody tr th:only-of-type {\n",
       "        vertical-align: middle;\n",
       "    }\n",
       "\n",
       "    .dataframe tbody tr th {\n",
       "        vertical-align: top;\n",
       "    }\n",
       "\n",
       "    .dataframe thead th {\n",
       "        text-align: right;\n",
       "    }\n",
       "</style>\n",
       "<table border=\"1\" class=\"dataframe\">\n",
       "  <thead>\n",
       "    <tr style=\"text-align: right;\">\n",
       "      <th></th>\n",
       "      <th>age</th>\n",
       "      <th>gender</th>\n",
       "      <th>height</th>\n",
       "      <th>weight</th>\n",
       "      <th>bp_high</th>\n",
       "      <th>bp_low</th>\n",
       "      <th>cholesterol</th>\n",
       "      <th>gluc</th>\n",
       "      <th>smoke</th>\n",
       "      <th>alco</th>\n",
       "      <th>active</th>\n",
       "      <th>cardio</th>\n",
       "      <th>bmi</th>\n",
       "    </tr>\n",
       "  </thead>\n",
       "  <tbody>\n",
       "    <tr>\n",
       "      <th>0</th>\n",
       "      <td>62.312</td>\n",
       "      <td>female</td>\n",
       "      <td>1.540</td>\n",
       "      <td>70.000</td>\n",
       "      <td>130.000</td>\n",
       "      <td>60.000</td>\n",
       "      <td>above normal</td>\n",
       "      <td>normal</td>\n",
       "      <td>0</td>\n",
       "      <td>0</td>\n",
       "      <td>1</td>\n",
       "      <td>1</td>\n",
       "      <td>29.516</td>\n",
       "    </tr>\n",
       "    <tr>\n",
       "      <th>1</th>\n",
       "      <td>49.918</td>\n",
       "      <td>female</td>\n",
       "      <td>1.760</td>\n",
       "      <td>92.000</td>\n",
       "      <td>160.000</td>\n",
       "      <td>100.000</td>\n",
       "      <td>well above normal</td>\n",
       "      <td>above normal</td>\n",
       "      <td>0</td>\n",
       "      <td>0</td>\n",
       "      <td>1</td>\n",
       "      <td>0</td>\n",
       "      <td>29.700</td>\n",
       "    </tr>\n",
       "    <tr>\n",
       "      <th>2</th>\n",
       "      <td>55.564</td>\n",
       "      <td>male</td>\n",
       "      <td>1.680</td>\n",
       "      <td>69.000</td>\n",
       "      <td>140.000</td>\n",
       "      <td>90.000</td>\n",
       "      <td>above normal</td>\n",
       "      <td>normal</td>\n",
       "      <td>0</td>\n",
       "      <td>0</td>\n",
       "      <td>0</td>\n",
       "      <td>1</td>\n",
       "      <td>24.447</td>\n",
       "    </tr>\n",
       "    <tr>\n",
       "      <th>3</th>\n",
       "      <td>41.836</td>\n",
       "      <td>female</td>\n",
       "      <td>1.650</td>\n",
       "      <td>73.000</td>\n",
       "      <td>110.000</td>\n",
       "      <td>70.000</td>\n",
       "      <td>normal</td>\n",
       "      <td>normal</td>\n",
       "      <td>0</td>\n",
       "      <td>0</td>\n",
       "      <td>1</td>\n",
       "      <td>0</td>\n",
       "      <td>26.814</td>\n",
       "    </tr>\n",
       "    <tr>\n",
       "      <th>4</th>\n",
       "      <td>54.548</td>\n",
       "      <td>female</td>\n",
       "      <td>1.540</td>\n",
       "      <td>71.000</td>\n",
       "      <td>140.000</td>\n",
       "      <td>90.000</td>\n",
       "      <td>above normal</td>\n",
       "      <td>above normal</td>\n",
       "      <td>0</td>\n",
       "      <td>0</td>\n",
       "      <td>0</td>\n",
       "      <td>1</td>\n",
       "      <td>29.938</td>\n",
       "    </tr>\n",
       "  </tbody>\n",
       "</table>\n",
       "</div>"
      ],
      "text/plain": [
       "     age  gender  height  weight  bp_high  bp_low        cholesterol  \\\n",
       "0 62.312  female   1.540  70.000  130.000  60.000       above normal   \n",
       "1 49.918  female   1.760  92.000  160.000 100.000  well above normal   \n",
       "2 55.564    male   1.680  69.000  140.000  90.000       above normal   \n",
       "3 41.836  female   1.650  73.000  110.000  70.000             normal   \n",
       "4 54.548  female   1.540  71.000  140.000  90.000       above normal   \n",
       "\n",
       "           gluc  smoke  alco  active  cardio    bmi  \n",
       "0        normal      0     0       1       1 29.516  \n",
       "1  above normal      0     0       1       0 29.700  \n",
       "2        normal      0     0       0       1 24.447  \n",
       "3        normal      0     0       1       0 26.814  \n",
       "4  above normal      0     0       0       1 29.938  "
      ]
     },
     "execution_count": 2,
     "metadata": {},
     "output_type": "execute_result"
    }
   ],
   "source": [
    "# read in the data\n",
    "holdout = pd.read_csv(\"cardiac_test.csv\")\n",
    "print(holdout.shape)\n",
    "holdout.head()"
   ]
  },
  {
   "cell_type": "markdown",
   "metadata": {},
   "source": [
    "## Transforming the holdout\n",
    "* We need to transform the train set the same way we did with the train set."
   ]
  },
  {
   "cell_type": "code",
   "execution_count": 3,
   "metadata": {},
   "outputs": [
    {
     "data": {
      "text/plain": [
       "normal         5121\n",
       "overweight     5000\n",
       "obese          2460\n",
       "underweight     136\n",
       "Name: bmi_cat, dtype: int64"
      ]
     },
     "execution_count": 3,
     "metadata": {},
     "output_type": "execute_result"
    }
   ],
   "source": [
    "holdout['bmi_cat'] = pd.cut(holdout['bmi'], right= False, bins = [0,18.5,25,30,36], \n",
    "                       labels=['underweight','normal','overweight','obese'])\n",
    "holdout['bmi_cat'].value_counts(dropna = False)"
   ]
  },
  {
   "cell_type": "code",
   "execution_count": 4,
   "metadata": {},
   "outputs": [],
   "source": [
    "# create dummy columns from these categorical feature and assign it to a new data frame\n",
    "dummy_holdout = pd.get_dummies(holdout, columns=['bmi_cat','gender'], prefix = '', prefix_sep = '', drop_first= True)"
   ]
  },
  {
   "cell_type": "code",
   "execution_count": 5,
   "metadata": {},
   "outputs": [],
   "source": [
    "# we have more categorical columns that need to be converted into dummies\n",
    "dummy_holdout = pd.get_dummies(dummy_holdout, columns=['cholesterol','gluc'], prefix =['chol','gluc'],)"
   ]
  },
  {
   "cell_type": "code",
   "execution_count": 6,
   "metadata": {},
   "outputs": [],
   "source": [
    "dummy_holdout['bp_lvl'] = dummy_holdout['bp_high'].apply(lambda x: 'crisis' if (x >= 180) else\n",
    "                                              ('hyper_2' if (x < 180) & (x >= 140) else\n",
    "                                              ('hyper_1' if (x < 140) & (x >= 130) else\n",
    "                                              ('normal' if (x < 130) & (x >= 90) else 'lowest'))))"
   ]
  },
  {
   "cell_type": "code",
   "execution_count": 7,
   "metadata": {},
   "outputs": [],
   "source": [
    "dummy_holdout = pd.get_dummies(dummy_holdout, columns=['bp_lvl'], prefix =['bp'],) # make dummies for the new column"
   ]
  },
  {
   "cell_type": "code",
   "execution_count": 8,
   "metadata": {},
   "outputs": [],
   "source": [
    "# rename columns to remove blank spaces\n",
    "rename_cols = {'chol_above normal':'chol_above_normal', 'chol_well above normal':'chol_well_above_normal',\n",
    "              'gluc_above normal':'gluc_above_normal', 'gluc_well above normal':'gluc_well_above_normal'}\n",
    "dummy_holdout.rename(rename_cols, axis= 1, inplace= True)"
   ]
  },
  {
   "cell_type": "markdown",
   "metadata": {},
   "source": [
    "### Normalize the data"
   ]
  },
  {
   "cell_type": "code",
   "execution_count": 9,
   "metadata": {},
   "outputs": [],
   "source": [
    "# normalized = value - mean / standard deviation\n",
    "norm_holdout = (dummy_holdout - dummy_holdout.mean())/ dummy_holdout.std()\n",
    "norm_holdout['cardio'] = dummy_holdout['cardio']  # plug back in the original values for the target"
   ]
  },
  {
   "cell_type": "code",
   "execution_count": 10,
   "metadata": {},
   "outputs": [
    {
     "data": {
      "text/html": [
       "<div>\n",
       "<style scoped>\n",
       "    .dataframe tbody tr th:only-of-type {\n",
       "        vertical-align: middle;\n",
       "    }\n",
       "\n",
       "    .dataframe tbody tr th {\n",
       "        vertical-align: top;\n",
       "    }\n",
       "\n",
       "    .dataframe thead th {\n",
       "        text-align: right;\n",
       "    }\n",
       "</style>\n",
       "<table border=\"1\" class=\"dataframe\">\n",
       "  <thead>\n",
       "    <tr style=\"text-align: right;\">\n",
       "      <th></th>\n",
       "      <th>age</th>\n",
       "      <th>height</th>\n",
       "      <th>weight</th>\n",
       "      <th>bp_high</th>\n",
       "      <th>bp_low</th>\n",
       "      <th>smoke</th>\n",
       "      <th>alco</th>\n",
       "      <th>active</th>\n",
       "      <th>cardio</th>\n",
       "      <th>bmi</th>\n",
       "      <th>normal</th>\n",
       "      <th>overweight</th>\n",
       "      <th>obese</th>\n",
       "      <th>male</th>\n",
       "      <th>chol_above_normal</th>\n",
       "      <th>chol_normal</th>\n",
       "      <th>chol_well_above_normal</th>\n",
       "      <th>gluc_above_normal</th>\n",
       "      <th>gluc_normal</th>\n",
       "      <th>gluc_well_above_normal</th>\n",
       "      <th>bp_crisis</th>\n",
       "      <th>bp_hyper_1</th>\n",
       "      <th>bp_hyper_2</th>\n",
       "      <th>bp_lowest</th>\n",
       "      <th>bp_normal</th>\n",
       "    </tr>\n",
       "  </thead>\n",
       "  <tbody>\n",
       "    <tr>\n",
       "      <th>0</th>\n",
       "      <td>1.349</td>\n",
       "      <td>-1.402</td>\n",
       "      <td>-0.148</td>\n",
       "      <td>0.237</td>\n",
       "      <td>-2.244</td>\n",
       "      <td>-0.322</td>\n",
       "      <td>-0.241</td>\n",
       "      <td>0.488</td>\n",
       "      <td>1</td>\n",
       "      <td>0.838</td>\n",
       "      <td>-0.821</td>\n",
       "      <td>1.242</td>\n",
       "      <td>-0.490</td>\n",
       "      <td>-0.768</td>\n",
       "      <td>2.612</td>\n",
       "      <td>-1.813</td>\n",
       "      <td>-0.343</td>\n",
       "      <td>-0.274</td>\n",
       "      <td>0.409</td>\n",
       "      <td>-0.281</td>\n",
       "      <td>-0.113</td>\n",
       "      <td>2.594</td>\n",
       "      <td>-0.563</td>\n",
       "      <td>-0.031</td>\n",
       "      <td>-1.269</td>\n",
       "    </tr>\n",
       "    <tr>\n",
       "      <th>1</th>\n",
       "      <td>-0.479</td>\n",
       "      <td>1.425</td>\n",
       "      <td>1.766</td>\n",
       "      <td>2.069</td>\n",
       "      <td>2.010</td>\n",
       "      <td>-0.322</td>\n",
       "      <td>-0.241</td>\n",
       "      <td>0.488</td>\n",
       "      <td>0</td>\n",
       "      <td>0.887</td>\n",
       "      <td>-0.821</td>\n",
       "      <td>1.242</td>\n",
       "      <td>-0.490</td>\n",
       "      <td>-0.768</td>\n",
       "      <td>-0.383</td>\n",
       "      <td>-1.813</td>\n",
       "      <td>2.914</td>\n",
       "      <td>3.652</td>\n",
       "      <td>-2.447</td>\n",
       "      <td>-0.281</td>\n",
       "      <td>-0.113</td>\n",
       "      <td>-0.385</td>\n",
       "      <td>1.778</td>\n",
       "      <td>-0.031</td>\n",
       "      <td>-1.269</td>\n",
       "    </tr>\n",
       "    <tr>\n",
       "      <th>2</th>\n",
       "      <td>0.354</td>\n",
       "      <td>0.397</td>\n",
       "      <td>-0.235</td>\n",
       "      <td>0.848</td>\n",
       "      <td>0.946</td>\n",
       "      <td>-0.322</td>\n",
       "      <td>-0.241</td>\n",
       "      <td>-2.051</td>\n",
       "      <td>1</td>\n",
       "      <td>-0.506</td>\n",
       "      <td>1.218</td>\n",
       "      <td>-0.805</td>\n",
       "      <td>-0.490</td>\n",
       "      <td>1.302</td>\n",
       "      <td>2.612</td>\n",
       "      <td>-1.813</td>\n",
       "      <td>-0.343</td>\n",
       "      <td>-0.274</td>\n",
       "      <td>0.409</td>\n",
       "      <td>-0.281</td>\n",
       "      <td>-0.113</td>\n",
       "      <td>-0.385</td>\n",
       "      <td>1.778</td>\n",
       "      <td>-0.031</td>\n",
       "      <td>-1.269</td>\n",
       "    </tr>\n",
       "    <tr>\n",
       "      <th>3</th>\n",
       "      <td>-1.670</td>\n",
       "      <td>0.012</td>\n",
       "      <td>0.113</td>\n",
       "      <td>-0.984</td>\n",
       "      <td>-1.181</td>\n",
       "      <td>-0.322</td>\n",
       "      <td>-0.241</td>\n",
       "      <td>0.488</td>\n",
       "      <td>0</td>\n",
       "      <td>0.122</td>\n",
       "      <td>-0.821</td>\n",
       "      <td>1.242</td>\n",
       "      <td>-0.490</td>\n",
       "      <td>-0.768</td>\n",
       "      <td>-0.383</td>\n",
       "      <td>0.551</td>\n",
       "      <td>-0.343</td>\n",
       "      <td>-0.274</td>\n",
       "      <td>0.409</td>\n",
       "      <td>-0.281</td>\n",
       "      <td>-0.113</td>\n",
       "      <td>-0.385</td>\n",
       "      <td>-0.563</td>\n",
       "      <td>-0.031</td>\n",
       "      <td>0.788</td>\n",
       "    </tr>\n",
       "    <tr>\n",
       "      <th>4</th>\n",
       "      <td>0.204</td>\n",
       "      <td>-1.402</td>\n",
       "      <td>-0.061</td>\n",
       "      <td>0.848</td>\n",
       "      <td>0.946</td>\n",
       "      <td>-0.322</td>\n",
       "      <td>-0.241</td>\n",
       "      <td>-2.051</td>\n",
       "      <td>1</td>\n",
       "      <td>0.950</td>\n",
       "      <td>-0.821</td>\n",
       "      <td>1.242</td>\n",
       "      <td>-0.490</td>\n",
       "      <td>-0.768</td>\n",
       "      <td>2.612</td>\n",
       "      <td>-1.813</td>\n",
       "      <td>-0.343</td>\n",
       "      <td>3.652</td>\n",
       "      <td>-2.447</td>\n",
       "      <td>-0.281</td>\n",
       "      <td>-0.113</td>\n",
       "      <td>-0.385</td>\n",
       "      <td>1.778</td>\n",
       "      <td>-0.031</td>\n",
       "      <td>-1.269</td>\n",
       "    </tr>\n",
       "  </tbody>\n",
       "</table>\n",
       "</div>"
      ],
      "text/plain": [
       "     age  height  weight  bp_high  bp_low  smoke   alco  active  cardio  \\\n",
       "0  1.349  -1.402  -0.148    0.237  -2.244 -0.322 -0.241   0.488       1   \n",
       "1 -0.479   1.425   1.766    2.069   2.010 -0.322 -0.241   0.488       0   \n",
       "2  0.354   0.397  -0.235    0.848   0.946 -0.322 -0.241  -2.051       1   \n",
       "3 -1.670   0.012   0.113   -0.984  -1.181 -0.322 -0.241   0.488       0   \n",
       "4  0.204  -1.402  -0.061    0.848   0.946 -0.322 -0.241  -2.051       1   \n",
       "\n",
       "     bmi  normal  overweight  obese   male  chol_above_normal  chol_normal  \\\n",
       "0  0.838  -0.821       1.242 -0.490 -0.768              2.612       -1.813   \n",
       "1  0.887  -0.821       1.242 -0.490 -0.768             -0.383       -1.813   \n",
       "2 -0.506   1.218      -0.805 -0.490  1.302              2.612       -1.813   \n",
       "3  0.122  -0.821       1.242 -0.490 -0.768             -0.383        0.551   \n",
       "4  0.950  -0.821       1.242 -0.490 -0.768              2.612       -1.813   \n",
       "\n",
       "   chol_well_above_normal  gluc_above_normal  gluc_normal  \\\n",
       "0                  -0.343             -0.274        0.409   \n",
       "1                   2.914              3.652       -2.447   \n",
       "2                  -0.343             -0.274        0.409   \n",
       "3                  -0.343             -0.274        0.409   \n",
       "4                  -0.343              3.652       -2.447   \n",
       "\n",
       "   gluc_well_above_normal  bp_crisis  bp_hyper_1  bp_hyper_2  bp_lowest  \\\n",
       "0                  -0.281     -0.113       2.594      -0.563     -0.031   \n",
       "1                  -0.281     -0.113      -0.385       1.778     -0.031   \n",
       "2                  -0.281     -0.113      -0.385       1.778     -0.031   \n",
       "3                  -0.281     -0.113      -0.385      -0.563     -0.031   \n",
       "4                  -0.281     -0.113      -0.385       1.778     -0.031   \n",
       "\n",
       "   bp_normal  \n",
       "0     -1.269  \n",
       "1     -1.269  \n",
       "2     -1.269  \n",
       "3      0.788  \n",
       "4     -1.269  "
      ]
     },
     "execution_count": 10,
     "metadata": {},
     "output_type": "execute_result"
    }
   ],
   "source": [
    "norm_holdout.head()"
   ]
  },
  {
   "cell_type": "code",
   "execution_count": 11,
   "metadata": {},
   "outputs": [],
   "source": [
    "# Split data to be used in the models\n",
    "features_holdout = norm_holdout.drop(columns=['cardio','height','smoke','alco','bp_low','male',\n",
    "                                              'bp_lowest','bp_hyper_1','bp_high','weight'], axis = 1) # creating a matrix of features\n",
    "\n",
    "target = norm_holdout['cardio'] # target is the column we're trying to predict "
   ]
  },
  {
   "cell_type": "code",
   "execution_count": 12,
   "metadata": {},
   "outputs": [
    {
     "data": {
      "text/plain": [
       "(12717, 15)"
      ]
     },
     "execution_count": 12,
     "metadata": {},
     "output_type": "execute_result"
    }
   ],
   "source": [
    "features_holdout.shape # this should have the same number of columns as the train set had before modelling = 24"
   ]
  },
  {
   "cell_type": "markdown",
   "metadata": {},
   "source": [
    "## Predict the target \n",
    "___"
   ]
  },
  {
   "cell_type": "code",
   "execution_count": 13,
   "metadata": {},
   "outputs": [],
   "source": [
    "import pickle \n",
    "\n",
    "pickle_in = open('DecisionTree.pickle','rb')\n",
    "final_model = pickle.load(pickle_in)"
   ]
  },
  {
   "cell_type": "code",
   "execution_count": 14,
   "metadata": {},
   "outputs": [
    {
     "data": {
      "text/plain": [
       "array([0.12506165, 0.        , 0.00085584, 0.        , 0.        ,\n",
       "       0.        , 0.        , 0.        , 0.08520231, 0.        ,\n",
       "       0.00107098, 0.00821434, 0.01531254, 0.08250721, 0.68177513])"
      ]
     },
     "execution_count": 14,
     "metadata": {},
     "output_type": "execute_result"
    }
   ],
   "source": [
    "final_model.feature_importances_"
   ]
  },
  {
   "cell_type": "code",
   "execution_count": 15,
   "metadata": {},
   "outputs": [],
   "source": [
    "predictions = final_model.predict(features_holdout)"
   ]
  },
  {
   "cell_type": "code",
   "execution_count": 16,
   "metadata": {},
   "outputs": [
    {
     "data": {
      "text/plain": [
       "12717"
      ]
     },
     "execution_count": 16,
     "metadata": {},
     "output_type": "execute_result"
    }
   ],
   "source": [
    "predictions.size"
   ]
  },
  {
   "cell_type": "code",
   "execution_count": 17,
   "metadata": {},
   "outputs": [
    {
     "name": "stdout",
     "output_type": "stream",
     "text": [
      "Test Recall:  0.6993237671119907 \n",
      "\n",
      "Test Accuracy:  0.7283164268302272 \n",
      "\n",
      "Test Precision:  0.7220708446866485\n"
     ]
    }
   ],
   "source": [
    "from sklearn.metrics import accuracy_score, f1_score, recall_score, precision_score\n",
    "\n",
    "THRESHOLD = 0.5\n",
    "predictions = np.where(final_model.predict_proba(features_holdout)[:,1] > THRESHOLD, 1, 0)\n",
    "\n",
    "print(\"Test Recall: \", recall_score(target, predictions), '\\n')\n",
    "print(\"Test Accuracy: \", accuracy_score(target, predictions), '\\n')\n",
    "print('Test Precision: ', precision_score(target, predictions))"
   ]
  },
  {
   "cell_type": "markdown",
   "metadata": {},
   "source": [
    "___"
   ]
  },
  {
   "cell_type": "code",
   "execution_count": 18,
   "metadata": {
    "scrolled": false
   },
   "outputs": [],
   "source": [
    "pd.set_option('display.float_format', lambda x: '%.6f' % x)  # avoid outputing scientific notation\n",
    "feat_imp = pd.DataFrame(data=final_model.feature_importances_, index=features_holdout.columns,\n",
    "                         columns= ['importance'])"
   ]
  },
  {
   "cell_type": "code",
   "execution_count": 19,
   "metadata": {},
   "outputs": [],
   "source": [
    "feat_imp = feat_imp[feat_imp['importance'] > 0]"
   ]
  },
  {
   "cell_type": "code",
   "execution_count": 20,
   "metadata": {},
   "outputs": [
    {
     "data": {
      "image/png": "[encoded data removed]",
      "text/plain": [
       "<Figure size 1440x720 with 1 Axes>"
      ]
     },
     "metadata": {},
     "output_type": "display_data"
    }
   ],
   "source": [
    "plt.figure(figsize= (20,10))\n",
    "sns.barplot(x = feat_imp.index, y = feat_imp['importance'],)\n",
    "plt.ylabel('Value')\n",
    "plt.xlabel('Features')\n",
    "plt.title('Feature Importances of Decision Tree Model')\n",
    "plt.savefig('feature_imp_dct.png')"
   ]
  },
  {
   "cell_type": "markdown",
   "metadata": {},
   "source": [
    "___"
   ]
  },
  {
   "cell_type": "code",
   "execution_count": 21,
   "metadata": {},
   "outputs": [
    {
     "data": {
      "text/plain": [
       "between_40-60    10058\n",
       "over-60           2305\n",
       "under-40           354\n",
       "Name: age_cat, dtype: int64"
      ]
     },
     "execution_count": 21,
     "metadata": {},
     "output_type": "execute_result"
    }
   ],
   "source": [
    "dummy_holdout['age_cat'] = pd.cut(dummy_holdout['age'], right= False, bins = [0,40,60,70], \n",
    "                       labels=['under-40','between_40-60','over-60'])\n",
    "dummy_holdout['age_cat'].value_counts(dropna = False)"
   ]
  },
  {
   "cell_type": "code",
   "execution_count": 22,
   "metadata": {},
   "outputs": [
    {
     "data": {
      "image/png": "[encoded data removed]",
      "text/plain": [
       "<Figure size 576x396 with 1 Axes>"
      ]
     },
     "metadata": {},
     "output_type": "display_data"
    }
   ],
   "source": [
    "age_cat_mean = dummy_holdout.groupby('age_cat')['cardio'].mean()\n",
    "\n",
    "sns.barplot(y= age_cat_mean, x= age_cat_mean.index, palette= 'GnBu_d' , )\n",
    "plt.title('Heart Disease By Age Group')\n",
    "plt.ylabel('Proportion with Disease')\n",
    "plt.xlabel('Age Group')\n",
    "plt.savefig('disease_by_age.png')"
   ]
  },
  {
   "cell_type": "code",
   "execution_count": 23,
   "metadata": {},
   "outputs": [],
   "source": [
    "hyper_bp = dummy_holdout.groupby('bp_hyper_2')['cardio'].value_counts(normalize=True, )[1]\n",
    "normal_bp = dummy_holdout.groupby('bp_normal')['cardio'].value_counts(normalize=True)[1]\n",
    "obese = dummy_holdout.groupby('obese')['cardio'].value_counts(normalize=True)[1]\n",
    "high_chol = dummy_holdout.groupby('chol_well_above_normal')['cardio'].value_counts(normalize=True)[1]\n",
    "\n",
    "a_list = [hyper_bp, normal_bp, obese, high_chol]"
   ]
  },
  {
   "cell_type": "code",
   "execution_count": 24,
   "metadata": {},
   "outputs": [
    {
     "data": {
      "image/png": "[encoded data removed]",
      "text/plain": [
       "<Figure size 1440x504 with 4 Axes>"
      ]
     },
     "metadata": {},
     "output_type": "display_data"
    }
   ],
   "source": [
    "labels = ['Hyper BP', 'Normal BP', 'Obese', 'High Cholesterol']\n",
    "fig = plt.figure(figsize = (20,7))\n",
    "for n in range(0,4):\n",
    "    var = a_list[n]\n",
    "    ax = fig.add_subplot(1,4,n+1)\n",
    "    sns.barplot(y = var.sort_index(), x = ['No Disease','Disease'], palette= 'GnBu_d', ax = ax)\n",
    "    plt.xlabel(labels[n])\n",
    "    plt.ylabel('Proportion With Cardiac Disease')\n",
    "\n",
    "plt.savefig('proportions_by_groups.png')"
   ]
  }
 ],
 "metadata": {
  "kernelspec": {
   "display_name": "Python 3",
   "language": "python",
   "name": "python3"
  },
  "language_info": {
   "codemirror_mode": {
    "name": "ipython",
    "version": 3
   },
   "file_extension": ".py",
   "mimetype": "text/x-python",
   "name": "python",
   "nbconvert_exporter": "python",
   "pygments_lexer": "ipython3",
   "version": "3.8.3"
  }
 },
 "nbformat": 4,
 "nbformat_minor": 4
}
