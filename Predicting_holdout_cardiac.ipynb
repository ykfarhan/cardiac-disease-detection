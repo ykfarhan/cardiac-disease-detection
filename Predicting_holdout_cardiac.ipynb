{
 "cells": [
  {
   "cell_type": "markdown",
   "metadata": {},
   "source": [
    "# Predicting on the holdout data\n",
    "___"
   ]
  },
  {
   "cell_type": "code",
   "execution_count": 34,
   "metadata": {},
   "outputs": [],
   "source": [
    "# import the libraries necessarry for cleaning and eda\n",
    "import numpy as np\n",
    "import pandas as pd\n",
    "import matplotlib.pyplot as plt\n",
    "%matplotlib inline\n",
    "\n",
    "import seaborn as sns\n",
    "sns.set(style='white')\n",
    "plt.style.use('seaborn')\n",
    "\n",
    "pd.set_option('display.max_columns', 100)  # display max rows and columns\n",
    "pd.set_option('display.max_rows', 100)\n",
    "pd.set_option('display.float_format', lambda x: '%.7f' % x)  # avoid outputing scientific notation"
   ]
  },
  {
   "cell_type": "code",
   "execution_count": 2,
   "metadata": {},
   "outputs": [
    {
     "name": "stdout",
     "output_type": "stream",
     "text": [
      "(12717, 13)\n"
     ]
    },
    {
     "data": {
      "text/html": [
       "<div>\n",
       "<style scoped>\n",
       "    .dataframe tbody tr th:only-of-type {\n",
       "        vertical-align: middle;\n",
       "    }\n",
       "\n",
       "    .dataframe tbody tr th {\n",
       "        vertical-align: top;\n",
       "    }\n",
       "\n",
       "    .dataframe thead th {\n",
       "        text-align: right;\n",
       "    }\n",
       "</style>\n",
       "<table border=\"1\" class=\"dataframe\">\n",
       "  <thead>\n",
       "    <tr style=\"text-align: right;\">\n",
       "      <th></th>\n",
       "      <th>age</th>\n",
       "      <th>gender</th>\n",
       "      <th>height</th>\n",
       "      <th>weight</th>\n",
       "      <th>bp_high</th>\n",
       "      <th>bp_low</th>\n",
       "      <th>cholesterol</th>\n",
       "      <th>gluc</th>\n",
       "      <th>smoke</th>\n",
       "      <th>alco</th>\n",
       "      <th>active</th>\n",
       "      <th>cardio</th>\n",
       "      <th>bmi</th>\n",
       "    </tr>\n",
       "  </thead>\n",
       "  <tbody>\n",
       "    <tr>\n",
       "      <th>0</th>\n",
       "      <td>62.31</td>\n",
       "      <td>female</td>\n",
       "      <td>1.54</td>\n",
       "      <td>70.00</td>\n",
       "      <td>130.00</td>\n",
       "      <td>60.00</td>\n",
       "      <td>above normal</td>\n",
       "      <td>normal</td>\n",
       "      <td>0</td>\n",
       "      <td>0</td>\n",
       "      <td>1</td>\n",
       "      <td>1</td>\n",
       "      <td>29.52</td>\n",
       "    </tr>\n",
       "    <tr>\n",
       "      <th>1</th>\n",
       "      <td>49.92</td>\n",
       "      <td>female</td>\n",
       "      <td>1.76</td>\n",
       "      <td>92.00</td>\n",
       "      <td>160.00</td>\n",
       "      <td>100.00</td>\n",
       "      <td>well above normal</td>\n",
       "      <td>above normal</td>\n",
       "      <td>0</td>\n",
       "      <td>0</td>\n",
       "      <td>1</td>\n",
       "      <td>0</td>\n",
       "      <td>29.70</td>\n",
       "    </tr>\n",
       "    <tr>\n",
       "      <th>2</th>\n",
       "      <td>55.56</td>\n",
       "      <td>male</td>\n",
       "      <td>1.68</td>\n",
       "      <td>69.00</td>\n",
       "      <td>140.00</td>\n",
       "      <td>90.00</td>\n",
       "      <td>above normal</td>\n",
       "      <td>normal</td>\n",
       "      <td>0</td>\n",
       "      <td>0</td>\n",
       "      <td>0</td>\n",
       "      <td>1</td>\n",
       "      <td>24.45</td>\n",
       "    </tr>\n",
       "    <tr>\n",
       "      <th>3</th>\n",
       "      <td>41.84</td>\n",
       "      <td>female</td>\n",
       "      <td>1.65</td>\n",
       "      <td>73.00</td>\n",
       "      <td>110.00</td>\n",
       "      <td>70.00</td>\n",
       "      <td>normal</td>\n",
       "      <td>normal</td>\n",
       "      <td>0</td>\n",
       "      <td>0</td>\n",
       "      <td>1</td>\n",
       "      <td>0</td>\n",
       "      <td>26.81</td>\n",
       "    </tr>\n",
       "    <tr>\n",
       "      <th>4</th>\n",
       "      <td>54.55</td>\n",
       "      <td>female</td>\n",
       "      <td>1.54</td>\n",
       "      <td>71.00</td>\n",
       "      <td>140.00</td>\n",
       "      <td>90.00</td>\n",
       "      <td>above normal</td>\n",
       "      <td>above normal</td>\n",
       "      <td>0</td>\n",
       "      <td>0</td>\n",
       "      <td>0</td>\n",
       "      <td>1</td>\n",
       "      <td>29.94</td>\n",
       "    </tr>\n",
       "  </tbody>\n",
       "</table>\n",
       "</div>"
      ],
      "text/plain": [
       "    age  gender  height  weight  bp_high  bp_low        cholesterol  \\\n",
       "0 62.31  female    1.54   70.00   130.00   60.00       above normal   \n",
       "1 49.92  female    1.76   92.00   160.00  100.00  well above normal   \n",
       "2 55.56    male    1.68   69.00   140.00   90.00       above normal   \n",
       "3 41.84  female    1.65   73.00   110.00   70.00             normal   \n",
       "4 54.55  female    1.54   71.00   140.00   90.00       above normal   \n",
       "\n",
       "           gluc  smoke  alco  active  cardio   bmi  \n",
       "0        normal      0     0       1       1 29.52  \n",
       "1  above normal      0     0       1       0 29.70  \n",
       "2        normal      0     0       0       1 24.45  \n",
       "3        normal      0     0       1       0 26.81  \n",
       "4  above normal      0     0       0       1 29.94  "
      ]
     },
     "execution_count": 2,
     "metadata": {},
     "output_type": "execute_result"
    }
   ],
   "source": [
    "# read in the data\n",
    "holdout = pd.read_csv(\"cardiac_test.csv\")\n",
    "print(holdout.shape)\n",
    "holdout.head()"
   ]
  },
  {
   "cell_type": "markdown",
   "metadata": {},
   "source": [
    "### Transforming the holdout\n",
    "* We need to transform the train set the same way we did with the train set."
   ]
  },
  {
   "cell_type": "code",
   "execution_count": 3,
   "metadata": {},
   "outputs": [
    {
     "data": {
      "text/plain": [
       "normal         5121\n",
       "overweight     5000\n",
       "obese          2460\n",
       "underweight     136\n",
       "Name: bmi_cat, dtype: int64"
      ]
     },
     "execution_count": 3,
     "metadata": {},
     "output_type": "execute_result"
    }
   ],
   "source": [
    "holdout['bmi_cat'] = pd.cut(holdout['bmi'], right= False, bins = [0,18.5,25,30,36], \n",
    "                       labels=['underweight','normal','overweight','obese'])\n",
    "holdout['bmi_cat'].value_counts(dropna = False)"
   ]
  },
  {
   "cell_type": "code",
   "execution_count": 5,
   "metadata": {},
   "outputs": [],
   "source": [
    "# create dummy columns from these categorical feature and assign it to a new data frame\n",
    "dummy_holdout = pd.get_dummies(holdout, columns=['bmi_cat','gender'], prefix = '', prefix_sep = '', drop_first= True)"
   ]
  },
  {
   "cell_type": "code",
   "execution_count": 6,
   "metadata": {},
   "outputs": [],
   "source": [
    "# we have more categorical columns that need to be converted into dummies\n",
    "dummy_holdout = pd.get_dummies(dummy_holdout, columns=['cholesterol','gluc'], prefix =['chol','gluc'],)"
   ]
  },
  {
   "cell_type": "code",
   "execution_count": 7,
   "metadata": {},
   "outputs": [],
   "source": [
    "dummy_holdout['bp_lvl'] = dummy_holdout['bp_high'].apply(lambda x: 'crisis' if (x >= 180) else\n",
    "                                              ('hyper_2' if (x < 180) & (x >= 140) else\n",
    "                                              ('hyper_1' if (x < 140) & (x >= 130) else\n",
    "                                              ('normal' if (x < 130) & (x >= 90) else 'lowest'))))"
   ]
  },
  {
   "cell_type": "code",
   "execution_count": 8,
   "metadata": {},
   "outputs": [],
   "source": [
    "dummy_holdout = pd.get_dummies(dummy_holdout, columns=['bp_lvl'], prefix =['bp'],) # make dummies for the new column"
   ]
  },
  {
   "cell_type": "markdown",
   "metadata": {},
   "source": [
    "### Normalize the data"
   ]
  },
  {
   "cell_type": "code",
   "execution_count": 9,
   "metadata": {},
   "outputs": [],
   "source": [
    "# normalized = value - mean / standard deviation\n",
    "norm_holdout = (dummy_holdout - dummy_holdout.mean())/ dummy_holdout.std()\n",
    "norm_holdout['cardio'] = dummy_holdout['cardio']  # plug back in the original values for the target"
   ]
  },
  {
   "cell_type": "code",
   "execution_count": 10,
   "metadata": {},
   "outputs": [
    {
     "data": {
      "text/html": [
       "<div>\n",
       "<style scoped>\n",
       "    .dataframe tbody tr th:only-of-type {\n",
       "        vertical-align: middle;\n",
       "    }\n",
       "\n",
       "    .dataframe tbody tr th {\n",
       "        vertical-align: top;\n",
       "    }\n",
       "\n",
       "    .dataframe thead th {\n",
       "        text-align: right;\n",
       "    }\n",
       "</style>\n",
       "<table border=\"1\" class=\"dataframe\">\n",
       "  <thead>\n",
       "    <tr style=\"text-align: right;\">\n",
       "      <th></th>\n",
       "      <th>age</th>\n",
       "      <th>height</th>\n",
       "      <th>weight</th>\n",
       "      <th>bp_high</th>\n",
       "      <th>bp_low</th>\n",
       "      <th>smoke</th>\n",
       "      <th>alco</th>\n",
       "      <th>active</th>\n",
       "      <th>cardio</th>\n",
       "      <th>bmi</th>\n",
       "      <th>normal</th>\n",
       "      <th>overweight</th>\n",
       "      <th>obese</th>\n",
       "      <th>male</th>\n",
       "      <th>chol_above normal</th>\n",
       "      <th>chol_normal</th>\n",
       "      <th>chol_well above normal</th>\n",
       "      <th>gluc_above normal</th>\n",
       "      <th>gluc_normal</th>\n",
       "      <th>gluc_well above normal</th>\n",
       "      <th>bp_crisis</th>\n",
       "      <th>bp_hyper_1</th>\n",
       "      <th>bp_hyper_2</th>\n",
       "      <th>bp_lowest</th>\n",
       "      <th>bp_normal</th>\n",
       "    </tr>\n",
       "  </thead>\n",
       "  <tbody>\n",
       "    <tr>\n",
       "      <th>0</th>\n",
       "      <td>1.35</td>\n",
       "      <td>-1.40</td>\n",
       "      <td>-0.15</td>\n",
       "      <td>0.24</td>\n",
       "      <td>-2.24</td>\n",
       "      <td>-0.32</td>\n",
       "      <td>-0.24</td>\n",
       "      <td>0.49</td>\n",
       "      <td>1</td>\n",
       "      <td>0.84</td>\n",
       "      <td>-0.82</td>\n",
       "      <td>1.24</td>\n",
       "      <td>-0.49</td>\n",
       "      <td>-0.77</td>\n",
       "      <td>2.61</td>\n",
       "      <td>-1.81</td>\n",
       "      <td>-0.34</td>\n",
       "      <td>-0.27</td>\n",
       "      <td>0.41</td>\n",
       "      <td>-0.28</td>\n",
       "      <td>-0.11</td>\n",
       "      <td>2.59</td>\n",
       "      <td>-0.56</td>\n",
       "      <td>-0.03</td>\n",
       "      <td>-1.27</td>\n",
       "    </tr>\n",
       "    <tr>\n",
       "      <th>1</th>\n",
       "      <td>-0.48</td>\n",
       "      <td>1.42</td>\n",
       "      <td>1.77</td>\n",
       "      <td>2.07</td>\n",
       "      <td>2.01</td>\n",
       "      <td>-0.32</td>\n",
       "      <td>-0.24</td>\n",
       "      <td>0.49</td>\n",
       "      <td>0</td>\n",
       "      <td>0.89</td>\n",
       "      <td>-0.82</td>\n",
       "      <td>1.24</td>\n",
       "      <td>-0.49</td>\n",
       "      <td>-0.77</td>\n",
       "      <td>-0.38</td>\n",
       "      <td>-1.81</td>\n",
       "      <td>2.91</td>\n",
       "      <td>3.65</td>\n",
       "      <td>-2.45</td>\n",
       "      <td>-0.28</td>\n",
       "      <td>-0.11</td>\n",
       "      <td>-0.39</td>\n",
       "      <td>1.78</td>\n",
       "      <td>-0.03</td>\n",
       "      <td>-1.27</td>\n",
       "    </tr>\n",
       "    <tr>\n",
       "      <th>2</th>\n",
       "      <td>0.35</td>\n",
       "      <td>0.40</td>\n",
       "      <td>-0.24</td>\n",
       "      <td>0.85</td>\n",
       "      <td>0.95</td>\n",
       "      <td>-0.32</td>\n",
       "      <td>-0.24</td>\n",
       "      <td>-2.05</td>\n",
       "      <td>1</td>\n",
       "      <td>-0.51</td>\n",
       "      <td>1.22</td>\n",
       "      <td>-0.80</td>\n",
       "      <td>-0.49</td>\n",
       "      <td>1.30</td>\n",
       "      <td>2.61</td>\n",
       "      <td>-1.81</td>\n",
       "      <td>-0.34</td>\n",
       "      <td>-0.27</td>\n",
       "      <td>0.41</td>\n",
       "      <td>-0.28</td>\n",
       "      <td>-0.11</td>\n",
       "      <td>-0.39</td>\n",
       "      <td>1.78</td>\n",
       "      <td>-0.03</td>\n",
       "      <td>-1.27</td>\n",
       "    </tr>\n",
       "    <tr>\n",
       "      <th>3</th>\n",
       "      <td>-1.67</td>\n",
       "      <td>0.01</td>\n",
       "      <td>0.11</td>\n",
       "      <td>-0.98</td>\n",
       "      <td>-1.18</td>\n",
       "      <td>-0.32</td>\n",
       "      <td>-0.24</td>\n",
       "      <td>0.49</td>\n",
       "      <td>0</td>\n",
       "      <td>0.12</td>\n",
       "      <td>-0.82</td>\n",
       "      <td>1.24</td>\n",
       "      <td>-0.49</td>\n",
       "      <td>-0.77</td>\n",
       "      <td>-0.38</td>\n",
       "      <td>0.55</td>\n",
       "      <td>-0.34</td>\n",
       "      <td>-0.27</td>\n",
       "      <td>0.41</td>\n",
       "      <td>-0.28</td>\n",
       "      <td>-0.11</td>\n",
       "      <td>-0.39</td>\n",
       "      <td>-0.56</td>\n",
       "      <td>-0.03</td>\n",
       "      <td>0.79</td>\n",
       "    </tr>\n",
       "    <tr>\n",
       "      <th>4</th>\n",
       "      <td>0.20</td>\n",
       "      <td>-1.40</td>\n",
       "      <td>-0.06</td>\n",
       "      <td>0.85</td>\n",
       "      <td>0.95</td>\n",
       "      <td>-0.32</td>\n",
       "      <td>-0.24</td>\n",
       "      <td>-2.05</td>\n",
       "      <td>1</td>\n",
       "      <td>0.95</td>\n",
       "      <td>-0.82</td>\n",
       "      <td>1.24</td>\n",
       "      <td>-0.49</td>\n",
       "      <td>-0.77</td>\n",
       "      <td>2.61</td>\n",
       "      <td>-1.81</td>\n",
       "      <td>-0.34</td>\n",
       "      <td>3.65</td>\n",
       "      <td>-2.45</td>\n",
       "      <td>-0.28</td>\n",
       "      <td>-0.11</td>\n",
       "      <td>-0.39</td>\n",
       "      <td>1.78</td>\n",
       "      <td>-0.03</td>\n",
       "      <td>-1.27</td>\n",
       "    </tr>\n",
       "  </tbody>\n",
       "</table>\n",
       "</div>"
      ],
      "text/plain": [
       "    age  height  weight  bp_high  bp_low  smoke  alco  active  cardio   bmi  \\\n",
       "0  1.35   -1.40   -0.15     0.24   -2.24  -0.32 -0.24    0.49       1  0.84   \n",
       "1 -0.48    1.42    1.77     2.07    2.01  -0.32 -0.24    0.49       0  0.89   \n",
       "2  0.35    0.40   -0.24     0.85    0.95  -0.32 -0.24   -2.05       1 -0.51   \n",
       "3 -1.67    0.01    0.11    -0.98   -1.18  -0.32 -0.24    0.49       0  0.12   \n",
       "4  0.20   -1.40   -0.06     0.85    0.95  -0.32 -0.24   -2.05       1  0.95   \n",
       "\n",
       "   normal  overweight  obese  male  chol_above normal  chol_normal  \\\n",
       "0   -0.82        1.24  -0.49 -0.77               2.61        -1.81   \n",
       "1   -0.82        1.24  -0.49 -0.77              -0.38        -1.81   \n",
       "2    1.22       -0.80  -0.49  1.30               2.61        -1.81   \n",
       "3   -0.82        1.24  -0.49 -0.77              -0.38         0.55   \n",
       "4   -0.82        1.24  -0.49 -0.77               2.61        -1.81   \n",
       "\n",
       "   chol_well above normal  gluc_above normal  gluc_normal  \\\n",
       "0                   -0.34              -0.27         0.41   \n",
       "1                    2.91               3.65        -2.45   \n",
       "2                   -0.34              -0.27         0.41   \n",
       "3                   -0.34              -0.27         0.41   \n",
       "4                   -0.34               3.65        -2.45   \n",
       "\n",
       "   gluc_well above normal  bp_crisis  bp_hyper_1  bp_hyper_2  bp_lowest  \\\n",
       "0                   -0.28      -0.11        2.59       -0.56      -0.03   \n",
       "1                   -0.28      -0.11       -0.39        1.78      -0.03   \n",
       "2                   -0.28      -0.11       -0.39        1.78      -0.03   \n",
       "3                   -0.28      -0.11       -0.39       -0.56      -0.03   \n",
       "4                   -0.28      -0.11       -0.39        1.78      -0.03   \n",
       "\n",
       "   bp_normal  \n",
       "0      -1.27  \n",
       "1      -1.27  \n",
       "2      -1.27  \n",
       "3       0.79  \n",
       "4      -1.27  "
      ]
     },
     "execution_count": 10,
     "metadata": {},
     "output_type": "execute_result"
    }
   ],
   "source": [
    "norm_holdout.head()"
   ]
  },
  {
   "cell_type": "code",
   "execution_count": 14,
   "metadata": {},
   "outputs": [],
   "source": [
    "# Split data to be used in the models\n",
    "features_holdout = norm_holdout.drop(columns=['cardio'], axis = 1) # grabs everything else but 'catdio', creating a matrix of features\n",
    "\n",
    "target = norm_holdout['cardio'] # y is the column we're trying to predict "
   ]
  },
  {
   "cell_type": "code",
   "execution_count": 16,
   "metadata": {},
   "outputs": [
    {
     "data": {
      "text/plain": [
       "(12717, 24)"
      ]
     },
     "execution_count": 16,
     "metadata": {},
     "output_type": "execute_result"
    }
   ],
   "source": [
    "features_holdout.shape # this should have the same number of columns as the train set had before modelling = 24"
   ]
  },
  {
   "cell_type": "markdown",
   "metadata": {},
   "source": [
    "### Predict the target \n",
    "___"
   ]
  },
  {
   "cell_type": "code",
   "execution_count": 17,
   "metadata": {},
   "outputs": [],
   "source": [
    "import pickle \n",
    "\n",
    "pickle_in = open('DecisionTree.pickle','rb')\n",
    "final_model = pickle.load(pickle_in)"
   ]
  },
  {
   "cell_type": "code",
   "execution_count": 18,
   "metadata": {},
   "outputs": [
    {
     "data": {
      "text/plain": [
       "array([1.42183144e-01, 7.03642778e-04, 0.00000000e+00, 7.81001049e-01,\n",
       "       0.00000000e+00, 0.00000000e+00, 0.00000000e+00, 0.00000000e+00,\n",
       "       3.70083922e-03, 0.00000000e+00, 0.00000000e+00, 0.00000000e+00,\n",
       "       0.00000000e+00, 0.00000000e+00, 0.00000000e+00, 7.14045503e-02,\n",
       "       0.00000000e+00, 1.00677476e-03, 0.00000000e+00, 0.00000000e+00,\n",
       "       0.00000000e+00, 0.00000000e+00, 0.00000000e+00, 0.00000000e+00])"
      ]
     },
     "execution_count": 18,
     "metadata": {},
     "output_type": "execute_result"
    }
   ],
   "source": [
    "final_model.feature_importances_"
   ]
  },
  {
   "cell_type": "code",
   "execution_count": 19,
   "metadata": {},
   "outputs": [],
   "source": [
    "predictions = final_model.predict(features_holdout)"
   ]
  },
  {
   "cell_type": "code",
   "execution_count": 21,
   "metadata": {},
   "outputs": [
    {
     "data": {
      "text/plain": [
       "12717"
      ]
     },
     "execution_count": 21,
     "metadata": {},
     "output_type": "execute_result"
    }
   ],
   "source": [
    "predictions.size"
   ]
  },
  {
   "cell_type": "code",
   "execution_count": 32,
   "metadata": {},
   "outputs": [
    {
     "name": "stdout",
     "output_type": "stream",
     "text": [
      "Test Recall:  0.7116938809170378 \n",
      "\n",
      "Test Accuracy:  0.7271369033577102 \n",
      "\n",
      "Test Precision:  0.7147589862514494\n"
     ]
    }
   ],
   "source": [
    "from sklearn.metrics import accuracy_score, f1_score, recall_score, precision_score\n",
    "\n",
    "THRESHOLD = 0.5\n",
    "predictions = np.where(final_model.predict_proba(features_holdout)[:,1] > THRESHOLD, 1, 0)\n",
    "\n",
    "print(\"Test Recall: \", recall_score(target, predictions), '\\n')\n",
    "print(\"Test Accuracy: \", accuracy_score(target, predictions), '\\n')\n",
    "print('Test Precision: ', precision_score(target, predictions))"
   ]
  },
  {
   "cell_type": "code",
   "execution_count": 44,
   "metadata": {
    "scrolled": false
   },
   "outputs": [
    {
     "data": {
      "text/html": [
       "<div>\n",
       "<style scoped>\n",
       "    .dataframe tbody tr th:only-of-type {\n",
       "        vertical-align: middle;\n",
       "    }\n",
       "\n",
       "    .dataframe tbody tr th {\n",
       "        vertical-align: top;\n",
       "    }\n",
       "\n",
       "    .dataframe thead th {\n",
       "        text-align: right;\n",
       "    }\n",
       "</style>\n",
       "<table border=\"1\" class=\"dataframe\">\n",
       "  <thead>\n",
       "    <tr style=\"text-align: right;\">\n",
       "      <th></th>\n",
       "      <th>0</th>\n",
       "    </tr>\n",
       "  </thead>\n",
       "  <tbody>\n",
       "    <tr>\n",
       "      <th>age</th>\n",
       "      <td>0.1421831</td>\n",
       "    </tr>\n",
       "    <tr>\n",
       "      <th>height</th>\n",
       "      <td>0.0007036</td>\n",
       "    </tr>\n",
       "    <tr>\n",
       "      <th>weight</th>\n",
       "      <td>0.0000000</td>\n",
       "    </tr>\n",
       "    <tr>\n",
       "      <th>bp_high</th>\n",
       "      <td>0.7810010</td>\n",
       "    </tr>\n",
       "    <tr>\n",
       "      <th>bp_low</th>\n",
       "      <td>0.0000000</td>\n",
       "    </tr>\n",
       "    <tr>\n",
       "      <th>smoke</th>\n",
       "      <td>0.0000000</td>\n",
       "    </tr>\n",
       "    <tr>\n",
       "      <th>alco</th>\n",
       "      <td>0.0000000</td>\n",
       "    </tr>\n",
       "    <tr>\n",
       "      <th>active</th>\n",
       "      <td>0.0000000</td>\n",
       "    </tr>\n",
       "    <tr>\n",
       "      <th>bmi</th>\n",
       "      <td>0.0037008</td>\n",
       "    </tr>\n",
       "    <tr>\n",
       "      <th>normal</th>\n",
       "      <td>0.0000000</td>\n",
       "    </tr>\n",
       "    <tr>\n",
       "      <th>overweight</th>\n",
       "      <td>0.0000000</td>\n",
       "    </tr>\n",
       "    <tr>\n",
       "      <th>obese</th>\n",
       "      <td>0.0000000</td>\n",
       "    </tr>\n",
       "    <tr>\n",
       "      <th>male</th>\n",
       "      <td>0.0000000</td>\n",
       "    </tr>\n",
       "    <tr>\n",
       "      <th>chol_above normal</th>\n",
       "      <td>0.0000000</td>\n",
       "    </tr>\n",
       "    <tr>\n",
       "      <th>chol_normal</th>\n",
       "      <td>0.0000000</td>\n",
       "    </tr>\n",
       "    <tr>\n",
       "      <th>chol_well above normal</th>\n",
       "      <td>0.0714046</td>\n",
       "    </tr>\n",
       "    <tr>\n",
       "      <th>gluc_above normal</th>\n",
       "      <td>0.0000000</td>\n",
       "    </tr>\n",
       "    <tr>\n",
       "      <th>gluc_normal</th>\n",
       "      <td>0.0010068</td>\n",
       "    </tr>\n",
       "    <tr>\n",
       "      <th>gluc_well above normal</th>\n",
       "      <td>0.0000000</td>\n",
       "    </tr>\n",
       "    <tr>\n",
       "      <th>bp_crisis</th>\n",
       "      <td>0.0000000</td>\n",
       "    </tr>\n",
       "    <tr>\n",
       "      <th>bp_hyper_1</th>\n",
       "      <td>0.0000000</td>\n",
       "    </tr>\n",
       "    <tr>\n",
       "      <th>bp_hyper_2</th>\n",
       "      <td>0.0000000</td>\n",
       "    </tr>\n",
       "    <tr>\n",
       "      <th>bp_lowest</th>\n",
       "      <td>0.0000000</td>\n",
       "    </tr>\n",
       "    <tr>\n",
       "      <th>bp_normal</th>\n",
       "      <td>0.0000000</td>\n",
       "    </tr>\n",
       "  </tbody>\n",
       "</table>\n",
       "</div>"
      ],
      "text/plain": [
       "                               0\n",
       "age                    0.1421831\n",
       "height                 0.0007036\n",
       "weight                 0.0000000\n",
       "bp_high                0.7810010\n",
       "bp_low                 0.0000000\n",
       "smoke                  0.0000000\n",
       "alco                   0.0000000\n",
       "active                 0.0000000\n",
       "bmi                    0.0037008\n",
       "normal                 0.0000000\n",
       "overweight             0.0000000\n",
       "obese                  0.0000000\n",
       "male                   0.0000000\n",
       "chol_above normal      0.0000000\n",
       "chol_normal            0.0000000\n",
       "chol_well above normal 0.0714046\n",
       "gluc_above normal      0.0000000\n",
       "gluc_normal            0.0010068\n",
       "gluc_well above normal 0.0000000\n",
       "bp_crisis              0.0000000\n",
       "bp_hyper_1             0.0000000\n",
       "bp_hyper_2             0.0000000\n",
       "bp_lowest              0.0000000\n",
       "bp_normal              0.0000000"
      ]
     },
     "execution_count": 44,
     "metadata": {},
     "output_type": "execute_result"
    }
   ],
   "source": [
    "importance = pd.DataFrame(data=final_model.feature_importances_, index=[features_holdout.columns])\n",
    "importance"
   ]
  },
  {
   "cell_type": "code",
   "execution_count": null,
   "metadata": {},
   "outputs": [],
   "source": []
  }
 ],
 "metadata": {
  "kernelspec": {
   "display_name": "Python 3",
   "language": "python",
   "name": "python3"
  },
  "language_info": {
   "codemirror_mode": {
    "name": "ipython",
    "version": 3
   },
   "file_extension": ".py",
   "mimetype": "text/x-python",
   "name": "python",
   "nbconvert_exporter": "python",
   "pygments_lexer": "ipython3",
   "version": "3.8.3"
  }
 },
 "nbformat": 4,
 "nbformat_minor": 4
}
