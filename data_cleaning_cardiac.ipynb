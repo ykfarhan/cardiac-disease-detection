{
 "cells": [
  {
   "cell_type": "code",
   "execution_count": 1,
   "metadata": {},
   "outputs": [],
   "source": [
    "# import the libraries necessarry for cleaning and eda\n",
    "import numpy as np\n",
    "import pandas as pd\n",
    "import matplotlib.pyplot as plt\n",
    "%matplotlib inline\n",
    "\n",
    "import seaborn as sns\n",
    "sns.set(style='white')\n",
    "plt.style.use('seaborn')\n",
    "\n",
    "pd.set_option('display.max_columns', 100)  # display max rows and columns\n",
    "pd.set_option('display.max_rows', 100)\n",
    "pd.set_option('display.float_format', lambda x: '%.2f' % x)  # avoid outputing scientific notation"
   ]
  },
  {
   "cell_type": "code",
   "execution_count": 2,
   "metadata": {},
   "outputs": [],
   "source": [
    "df = pd.read_csv('cardio_train.csv', sep =';', index_col= 0, )  # read in the dataset"
   ]
  },
  {
   "cell_type": "code",
   "execution_count": 3,
   "metadata": {},
   "outputs": [
    {
     "data": {
      "text/html": [
       "<div>\n",
       "<style scoped>\n",
       "    .dataframe tbody tr th:only-of-type {\n",
       "        vertical-align: middle;\n",
       "    }\n",
       "\n",
       "    .dataframe tbody tr th {\n",
       "        vertical-align: top;\n",
       "    }\n",
       "\n",
       "    .dataframe thead th {\n",
       "        text-align: right;\n",
       "    }\n",
       "</style>\n",
       "<table border=\"1\" class=\"dataframe\">\n",
       "  <thead>\n",
       "    <tr style=\"text-align: right;\">\n",
       "      <th></th>\n",
       "      <th>age</th>\n",
       "      <th>gender</th>\n",
       "      <th>height</th>\n",
       "      <th>weight</th>\n",
       "      <th>ap_hi</th>\n",
       "      <th>ap_lo</th>\n",
       "      <th>cholesterol</th>\n",
       "      <th>gluc</th>\n",
       "      <th>smoke</th>\n",
       "      <th>alco</th>\n",
       "      <th>active</th>\n",
       "      <th>cardio</th>\n",
       "    </tr>\n",
       "    <tr>\n",
       "      <th>id</th>\n",
       "      <th></th>\n",
       "      <th></th>\n",
       "      <th></th>\n",
       "      <th></th>\n",
       "      <th></th>\n",
       "      <th></th>\n",
       "      <th></th>\n",
       "      <th></th>\n",
       "      <th></th>\n",
       "      <th></th>\n",
       "      <th></th>\n",
       "      <th></th>\n",
       "    </tr>\n",
       "  </thead>\n",
       "  <tbody>\n",
       "    <tr>\n",
       "      <th>0</th>\n",
       "      <td>18393</td>\n",
       "      <td>2</td>\n",
       "      <td>168</td>\n",
       "      <td>62.00</td>\n",
       "      <td>110</td>\n",
       "      <td>80</td>\n",
       "      <td>1</td>\n",
       "      <td>1</td>\n",
       "      <td>0</td>\n",
       "      <td>0</td>\n",
       "      <td>1</td>\n",
       "      <td>0</td>\n",
       "    </tr>\n",
       "    <tr>\n",
       "      <th>1</th>\n",
       "      <td>20228</td>\n",
       "      <td>1</td>\n",
       "      <td>156</td>\n",
       "      <td>85.00</td>\n",
       "      <td>140</td>\n",
       "      <td>90</td>\n",
       "      <td>3</td>\n",
       "      <td>1</td>\n",
       "      <td>0</td>\n",
       "      <td>0</td>\n",
       "      <td>1</td>\n",
       "      <td>1</td>\n",
       "    </tr>\n",
       "    <tr>\n",
       "      <th>2</th>\n",
       "      <td>18857</td>\n",
       "      <td>1</td>\n",
       "      <td>165</td>\n",
       "      <td>64.00</td>\n",
       "      <td>130</td>\n",
       "      <td>70</td>\n",
       "      <td>3</td>\n",
       "      <td>1</td>\n",
       "      <td>0</td>\n",
       "      <td>0</td>\n",
       "      <td>0</td>\n",
       "      <td>1</td>\n",
       "    </tr>\n",
       "    <tr>\n",
       "      <th>3</th>\n",
       "      <td>17623</td>\n",
       "      <td>2</td>\n",
       "      <td>169</td>\n",
       "      <td>82.00</td>\n",
       "      <td>150</td>\n",
       "      <td>100</td>\n",
       "      <td>1</td>\n",
       "      <td>1</td>\n",
       "      <td>0</td>\n",
       "      <td>0</td>\n",
       "      <td>1</td>\n",
       "      <td>1</td>\n",
       "    </tr>\n",
       "    <tr>\n",
       "      <th>4</th>\n",
       "      <td>17474</td>\n",
       "      <td>1</td>\n",
       "      <td>156</td>\n",
       "      <td>56.00</td>\n",
       "      <td>100</td>\n",
       "      <td>60</td>\n",
       "      <td>1</td>\n",
       "      <td>1</td>\n",
       "      <td>0</td>\n",
       "      <td>0</td>\n",
       "      <td>0</td>\n",
       "      <td>0</td>\n",
       "    </tr>\n",
       "  </tbody>\n",
       "</table>\n",
       "</div>"
      ],
      "text/plain": [
       "      age  gender  height  weight  ap_hi  ap_lo  cholesterol  gluc  smoke  \\\n",
       "id                                                                          \n",
       "0   18393       2     168   62.00    110     80            1     1      0   \n",
       "1   20228       1     156   85.00    140     90            3     1      0   \n",
       "2   18857       1     165   64.00    130     70            3     1      0   \n",
       "3   17623       2     169   82.00    150    100            1     1      0   \n",
       "4   17474       1     156   56.00    100     60            1     1      0   \n",
       "\n",
       "    alco  active  cardio  \n",
       "id                        \n",
       "0      0       1       0  \n",
       "1      0       1       1  \n",
       "2      0       0       1  \n",
       "3      0       1       1  \n",
       "4      0       0       0  "
      ]
     },
     "execution_count": 3,
     "metadata": {},
     "output_type": "execute_result"
    }
   ],
   "source": [
    "df.head()  # print out the first 5 rows"
   ]
  },
  {
   "cell_type": "code",
   "execution_count": 4,
   "metadata": {},
   "outputs": [
    {
     "name": "stdout",
     "output_type": "stream",
     "text": [
      "0   0.50\n",
      "1   0.50\n",
      "Name: cardio, dtype: float64\n"
     ]
    },
    {
     "data": {
      "text/plain": [
       "<matplotlib.axes._subplots.AxesSubplot at 0x7f9e19f76880>"
      ]
     },
     "execution_count": 4,
     "metadata": {},
     "output_type": "execute_result"
    },
    {
     "data": {
      "image/png": "[encoded data removed]",
      "text/plain": [
       "<Figure size 576x396 with 1 Axes>"
      ]
     },
     "metadata": {},
     "output_type": "display_data"
    }
   ],
   "source": [
    "# check for class imbalace\n",
    "print(df['cardio'].value_counts(normalize =True))\n",
    "sns.barplot(y = df['cardio'].value_counts(normalize = True), x = ['No', 'Yes'] )"
   ]
  },
  {
   "cell_type": "markdown",
   "metadata": {},
   "source": [
    "* Initially, the data set seems to be perfectly balanced in the target variable."
   ]
  },
  {
   "cell_type": "code",
   "execution_count": 5,
   "metadata": {},
   "outputs": [
    {
     "data": {
      "text/plain": [
       "age              int64\n",
       "gender           int64\n",
       "height           int64\n",
       "weight         float64\n",
       "ap_hi            int64\n",
       "ap_lo            int64\n",
       "cholesterol      int64\n",
       "gluc             int64\n",
       "smoke            int64\n",
       "alco             int64\n",
       "active           int64\n",
       "cardio           int64\n",
       "dtype: object"
      ]
     },
     "execution_count": 5,
     "metadata": {},
     "output_type": "execute_result"
    }
   ],
   "source": [
    "df.dtypes  # check the feature types"
   ]
  },
  {
   "cell_type": "code",
   "execution_count": 7,
   "metadata": {},
   "outputs": [
    {
     "data": {
      "text/plain": [
       "False"
      ]
     },
     "execution_count": 7,
     "metadata": {},
     "output_type": "execute_result"
    }
   ],
   "source": [
    "df.isnull().sum().any()  # check for any missing values"
   ]
  },
  {
   "cell_type": "code",
   "execution_count": 8,
   "metadata": {},
   "outputs": [
    {
     "name": "stdout",
     "output_type": "stream",
     "text": [
      "female    45530\n",
      "male      24470\n",
      "Name: gender, dtype: int64\n"
     ]
    }
   ],
   "source": [
    "# change the gender column into their original categorical values so we can make dummy columns later\n",
    "gender_dict = {1: 'female', 2: 'male'}  # make the mapping dictionary\n",
    "df['gender'] = df.gender.map(gender_dict)\n",
    "print(df.gender.value_counts())  # check the transformed column values"
   ]
  },
  {
   "cell_type": "code",
   "execution_count": 9,
   "metadata": {},
   "outputs": [],
   "source": [
    "df['age'] = df['age']/365  # convert age from days to years"
   ]
  },
  {
   "cell_type": "code",
   "execution_count": 10,
   "metadata": {},
   "outputs": [],
   "source": [
    "df['height'] = df['height']/100  # convert height from CM to M"
   ]
  },
  {
   "cell_type": "code",
   "execution_count": 11,
   "metadata": {},
   "outputs": [],
   "source": [
    "# create a mapping dictionary for the categorical columns about blood-sugar level\n",
    "sugar_level_dict = {1: 'normal', 2:'above normal', 3:'well above normal'}"
   ]
  },
  {
   "cell_type": "code",
   "execution_count": 12,
   "metadata": {},
   "outputs": [
    {
     "name": "stdout",
     "output_type": "stream",
     "text": [
      "normal               59479\n",
      "well above normal     5331\n",
      "above normal          5190\n",
      "Name: gluc, dtype: int64\n",
      "normal               52385\n",
      "above normal          9549\n",
      "well above normal     8066\n",
      "Name: cholesterol, dtype: int64\n"
     ]
    }
   ],
   "source": [
    "df['gluc'] = df['gluc'].map(sugar_level_dict)  # trasnform the columns into categorical\n",
    "print(df.gluc.value_counts(dropna = False))\n",
    "\n",
    "df['cholesterol'] = df['cholesterol'].map(sugar_level_dict)\n",
    "print(df['cholesterol'].value_counts(dropna = False))  # check the values to confirm"
   ]
  },
  {
   "cell_type": "code",
   "execution_count": 13,
   "metadata": {},
   "outputs": [
    {
     "data": {
      "text/plain": [
       "1    56261\n",
       "0    13739\n",
       "Name: active, dtype: int64"
      ]
     },
     "execution_count": 13,
     "metadata": {},
     "output_type": "execute_result"
    }
   ],
   "source": [
    "df.active.value_counts()  # check the values of subjective columns "
   ]
  },
  {
   "cell_type": "code",
   "execution_count": 18,
   "metadata": {},
   "outputs": [
    {
     "data": {
      "text/html": [
       "<div>\n",
       "<style scoped>\n",
       "    .dataframe tbody tr th:only-of-type {\n",
       "        vertical-align: middle;\n",
       "    }\n",
       "\n",
       "    .dataframe tbody tr th {\n",
       "        vertical-align: top;\n",
       "    }\n",
       "\n",
       "    .dataframe thead th {\n",
       "        text-align: right;\n",
       "    }\n",
       "</style>\n",
       "<table border=\"1\" class=\"dataframe\">\n",
       "  <thead>\n",
       "    <tr style=\"text-align: right;\">\n",
       "      <th></th>\n",
       "      <th>age</th>\n",
       "      <th>height</th>\n",
       "      <th>weight</th>\n",
       "      <th>ap_hi</th>\n",
       "      <th>ap_lo</th>\n",
       "      <th>smoke</th>\n",
       "      <th>alco</th>\n",
       "      <th>active</th>\n",
       "      <th>cardio</th>\n",
       "    </tr>\n",
       "  </thead>\n",
       "  <tbody>\n",
       "    <tr>\n",
       "      <th>count</th>\n",
       "      <td>69888.00</td>\n",
       "      <td>69888.00</td>\n",
       "      <td>69888.00</td>\n",
       "      <td>69888.00</td>\n",
       "      <td>69888.00</td>\n",
       "      <td>69888.00</td>\n",
       "      <td>69888.00</td>\n",
       "      <td>69888.00</td>\n",
       "      <td>69888.00</td>\n",
       "    </tr>\n",
       "    <tr>\n",
       "      <th>mean</th>\n",
       "      <td>53.34</td>\n",
       "      <td>1.64</td>\n",
       "      <td>74.12</td>\n",
       "      <td>128.81</td>\n",
       "      <td>96.58</td>\n",
       "      <td>0.09</td>\n",
       "      <td>0.05</td>\n",
       "      <td>0.80</td>\n",
       "      <td>0.50</td>\n",
       "    </tr>\n",
       "    <tr>\n",
       "      <th>std</th>\n",
       "      <td>6.76</td>\n",
       "      <td>0.08</td>\n",
       "      <td>14.10</td>\n",
       "      <td>154.13</td>\n",
       "      <td>188.45</td>\n",
       "      <td>0.28</td>\n",
       "      <td>0.23</td>\n",
       "      <td>0.40</td>\n",
       "      <td>0.50</td>\n",
       "    </tr>\n",
       "    <tr>\n",
       "      <th>min</th>\n",
       "      <td>29.58</td>\n",
       "      <td>1.05</td>\n",
       "      <td>31.00</td>\n",
       "      <td>-150.00</td>\n",
       "      <td>-70.00</td>\n",
       "      <td>0.00</td>\n",
       "      <td>0.00</td>\n",
       "      <td>0.00</td>\n",
       "      <td>0.00</td>\n",
       "    </tr>\n",
       "    <tr>\n",
       "      <th>25%</th>\n",
       "      <td>48.40</td>\n",
       "      <td>1.59</td>\n",
       "      <td>65.00</td>\n",
       "      <td>120.00</td>\n",
       "      <td>80.00</td>\n",
       "      <td>0.00</td>\n",
       "      <td>0.00</td>\n",
       "      <td>1.00</td>\n",
       "      <td>0.00</td>\n",
       "    </tr>\n",
       "    <tr>\n",
       "      <th>50%</th>\n",
       "      <td>53.98</td>\n",
       "      <td>1.65</td>\n",
       "      <td>72.00</td>\n",
       "      <td>120.00</td>\n",
       "      <td>80.00</td>\n",
       "      <td>0.00</td>\n",
       "      <td>0.00</td>\n",
       "      <td>1.00</td>\n",
       "      <td>0.00</td>\n",
       "    </tr>\n",
       "    <tr>\n",
       "      <th>75%</th>\n",
       "      <td>58.43</td>\n",
       "      <td>1.70</td>\n",
       "      <td>82.00</td>\n",
       "      <td>140.00</td>\n",
       "      <td>90.00</td>\n",
       "      <td>0.00</td>\n",
       "      <td>0.00</td>\n",
       "      <td>1.00</td>\n",
       "      <td>1.00</td>\n",
       "    </tr>\n",
       "    <tr>\n",
       "      <th>max</th>\n",
       "      <td>64.97</td>\n",
       "      <td>2.07</td>\n",
       "      <td>149.00</td>\n",
       "      <td>16020.00</td>\n",
       "      <td>11000.00</td>\n",
       "      <td>1.00</td>\n",
       "      <td>1.00</td>\n",
       "      <td>1.00</td>\n",
       "      <td>1.00</td>\n",
       "    </tr>\n",
       "  </tbody>\n",
       "</table>\n",
       "</div>"
      ],
      "text/plain": [
       "           age   height   weight    ap_hi    ap_lo    smoke     alco   active  \\\n",
       "count 69888.00 69888.00 69888.00 69888.00 69888.00 69888.00 69888.00 69888.00   \n",
       "mean     53.34     1.64    74.12   128.81    96.58     0.09     0.05     0.80   \n",
       "std       6.76     0.08    14.10   154.13   188.45     0.28     0.23     0.40   \n",
       "min      29.58     1.05    31.00  -150.00   -70.00     0.00     0.00     0.00   \n",
       "25%      48.40     1.59    65.00   120.00    80.00     0.00     0.00     1.00   \n",
       "50%      53.98     1.65    72.00   120.00    80.00     0.00     0.00     1.00   \n",
       "75%      58.43     1.70    82.00   140.00    90.00     0.00     0.00     1.00   \n",
       "max      64.97     2.07   149.00 16020.00 11000.00     1.00     1.00     1.00   \n",
       "\n",
       "        cardio  \n",
       "count 69888.00  \n",
       "mean      0.50  \n",
       "std       0.50  \n",
       "min       0.00  \n",
       "25%       0.00  \n",
       "50%       0.00  \n",
       "75%       1.00  \n",
       "max       1.00  "
      ]
     },
     "execution_count": 18,
     "metadata": {},
     "output_type": "execute_result"
    }
   ],
   "source": [
    "df.describe()  # check the descriptive statistics for outlier values"
   ]
  },
  {
   "cell_type": "code",
   "execution_count": 15,
   "metadata": {},
   "outputs": [],
   "source": [
    "# restrict the data for patients over 3.33 feet and less than 7 feet\n",
    "df = df[(df['height'] > 1) & (df['height'] < 2.125)].copy()  # 0.04% data was lost in total"
   ]
  },
  {
   "cell_type": "code",
   "execution_count": 17,
   "metadata": {},
   "outputs": [],
   "source": [
    "# restrict weight between 30kg and 150kg\n",
    "df = df[(df['weight'] > 30) & (df['weight'] < 150)].copy()  # 0.16% data was lost in total"
   ]
  },
  {
   "cell_type": "code",
   "execution_count": 20,
   "metadata": {},
   "outputs": [],
   "source": [
    "# make a BMI column where BMI = weight(kg) / [height(m)]**2\n",
    "df['bmi'] = df['weight']/(df['height']**2)"
   ]
  },
  {
   "cell_type": "code",
   "execution_count": 21,
   "metadata": {},
   "outputs": [],
   "source": [
    "# restric BMI between 15 & 35\n",
    "df = df[(df['bmi'] < 35) & (df['bmi'] > 15)].copy()"
   ]
  },
  {
   "cell_type": "code",
   "execution_count": 203,
   "metadata": {},
   "outputs": [
    {
     "data": {
      "text/html": [
       "<div>\n",
       "<style scoped>\n",
       "    .dataframe tbody tr th:only-of-type {\n",
       "        vertical-align: middle;\n",
       "    }\n",
       "\n",
       "    .dataframe tbody tr th {\n",
       "        vertical-align: top;\n",
       "    }\n",
       "\n",
       "    .dataframe thead th {\n",
       "        text-align: right;\n",
       "    }\n",
       "</style>\n",
       "<table border=\"1\" class=\"dataframe\">\n",
       "  <thead>\n",
       "    <tr style=\"text-align: right;\">\n",
       "      <th></th>\n",
       "      <th>age</th>\n",
       "      <th>height</th>\n",
       "      <th>weight</th>\n",
       "      <th>ap_hi</th>\n",
       "      <th>ap_lo</th>\n",
       "      <th>smoke</th>\n",
       "      <th>alco</th>\n",
       "      <th>active</th>\n",
       "      <th>cardio</th>\n",
       "      <th>bmi</th>\n",
       "    </tr>\n",
       "  </thead>\n",
       "  <tbody>\n",
       "    <tr>\n",
       "      <th>count</th>\n",
       "      <td>63688.000</td>\n",
       "      <td>63688.000</td>\n",
       "      <td>63688.000</td>\n",
       "      <td>63688.000</td>\n",
       "      <td>63688.000</td>\n",
       "      <td>63688.000</td>\n",
       "      <td>63688.000</td>\n",
       "      <td>63688.000</td>\n",
       "      <td>63688.000</td>\n",
       "      <td>63688.000</td>\n",
       "    </tr>\n",
       "    <tr>\n",
       "      <th>mean</th>\n",
       "      <td>53.231</td>\n",
       "      <td>1.648</td>\n",
       "      <td>71.633</td>\n",
       "      <td>127.865</td>\n",
       "      <td>94.705</td>\n",
       "      <td>0.091</td>\n",
       "      <td>0.054</td>\n",
       "      <td>0.805</td>\n",
       "      <td>0.482</td>\n",
       "      <td>26.356</td>\n",
       "    </tr>\n",
       "    <tr>\n",
       "      <th>std</th>\n",
       "      <td>6.767</td>\n",
       "      <td>0.078</td>\n",
       "      <td>11.448</td>\n",
       "      <td>152.814</td>\n",
       "      <td>185.631</td>\n",
       "      <td>0.287</td>\n",
       "      <td>0.225</td>\n",
       "      <td>0.396</td>\n",
       "      <td>0.500</td>\n",
       "      <td>3.734</td>\n",
       "    </tr>\n",
       "    <tr>\n",
       "      <th>min</th>\n",
       "      <td>29.584</td>\n",
       "      <td>1.250</td>\n",
       "      <td>32.000</td>\n",
       "      <td>1.000</td>\n",
       "      <td>1.000</td>\n",
       "      <td>0.000</td>\n",
       "      <td>0.000</td>\n",
       "      <td>0.000</td>\n",
       "      <td>0.000</td>\n",
       "      <td>15.012</td>\n",
       "    </tr>\n",
       "    <tr>\n",
       "      <th>25%</th>\n",
       "      <td>48.266</td>\n",
       "      <td>1.600</td>\n",
       "      <td>64.000</td>\n",
       "      <td>120.000</td>\n",
       "      <td>80.000</td>\n",
       "      <td>0.000</td>\n",
       "      <td>0.000</td>\n",
       "      <td>1.000</td>\n",
       "      <td>0.000</td>\n",
       "      <td>23.665</td>\n",
       "    </tr>\n",
       "    <tr>\n",
       "      <th>50%</th>\n",
       "      <td>53.915</td>\n",
       "      <td>1.650</td>\n",
       "      <td>70.000</td>\n",
       "      <td>120.000</td>\n",
       "      <td>80.000</td>\n",
       "      <td>0.000</td>\n",
       "      <td>0.000</td>\n",
       "      <td>1.000</td>\n",
       "      <td>0.000</td>\n",
       "      <td>25.865</td>\n",
       "    </tr>\n",
       "    <tr>\n",
       "      <th>75%</th>\n",
       "      <td>58.335</td>\n",
       "      <td>1.700</td>\n",
       "      <td>79.000</td>\n",
       "      <td>140.000</td>\n",
       "      <td>90.000</td>\n",
       "      <td>0.000</td>\n",
       "      <td>0.000</td>\n",
       "      <td>1.000</td>\n",
       "      <td>1.000</td>\n",
       "      <td>29.001</td>\n",
       "    </tr>\n",
       "    <tr>\n",
       "      <th>max</th>\n",
       "      <td>64.967</td>\n",
       "      <td>2.070</td>\n",
       "      <td>125.000</td>\n",
       "      <td>16020.000</td>\n",
       "      <td>10000.000</td>\n",
       "      <td>1.000</td>\n",
       "      <td>1.000</td>\n",
       "      <td>1.000</td>\n",
       "      <td>1.000</td>\n",
       "      <td>34.997</td>\n",
       "    </tr>\n",
       "  </tbody>\n",
       "</table>\n",
       "</div>"
      ],
      "text/plain": [
       "            age    height    weight     ap_hi     ap_lo     smoke      alco  \\\n",
       "count 63688.000 63688.000 63688.000 63688.000 63688.000 63688.000 63688.000   \n",
       "mean     53.231     1.648    71.633   127.865    94.705     0.091     0.054   \n",
       "std       6.767     0.078    11.448   152.814   185.631     0.287     0.225   \n",
       "min      29.584     1.250    32.000     1.000     1.000     0.000     0.000   \n",
       "25%      48.266     1.600    64.000   120.000    80.000     0.000     0.000   \n",
       "50%      53.915     1.650    70.000   120.000    80.000     0.000     0.000   \n",
       "75%      58.335     1.700    79.000   140.000    90.000     0.000     0.000   \n",
       "max      64.967     2.070   125.000 16020.000 10000.000     1.000     1.000   \n",
       "\n",
       "         active    cardio       bmi  \n",
       "count 63688.000 63688.000 63688.000  \n",
       "mean      0.805     0.482    26.356  \n",
       "std       0.396     0.500     3.734  \n",
       "min       0.000     0.000    15.012  \n",
       "25%       1.000     0.000    23.665  \n",
       "50%       1.000     0.000    25.865  \n",
       "75%       1.000     1.000    29.001  \n",
       "max       1.000     1.000    34.997  "
      ]
     },
     "execution_count": 203,
     "metadata": {},
     "output_type": "execute_result"
    }
   ],
   "source": [
    "df.describe()"
   ]
  },
  {
   "cell_type": "markdown",
   "metadata": {},
   "source": [
    "* We got rid of 9% of data by removing extreme values.\n",
    "* Data is still very balanced in the target variable: `0.52 : 0.48`"
   ]
  },
  {
   "cell_type": "code",
   "execution_count": 23,
   "metadata": {},
   "outputs": [],
   "source": [
    "bp_cols = ['ap_hi','ap_lo']  # store the blood pressure column indexes in a list"
   ]
  },
  {
   "cell_type": "code",
   "execution_count": 24,
   "metadata": {},
   "outputs": [
    {
     "data": {
      "text/html": [
       "<div>\n",
       "<style scoped>\n",
       "    .dataframe tbody tr th:only-of-type {\n",
       "        vertical-align: middle;\n",
       "    }\n",
       "\n",
       "    .dataframe tbody tr th {\n",
       "        vertical-align: top;\n",
       "    }\n",
       "\n",
       "    .dataframe thead th {\n",
       "        text-align: right;\n",
       "    }\n",
       "</style>\n",
       "<table border=\"1\" class=\"dataframe\">\n",
       "  <thead>\n",
       "    <tr style=\"text-align: right;\">\n",
       "      <th></th>\n",
       "      <th>ap_hi</th>\n",
       "      <th>ap_lo</th>\n",
       "    </tr>\n",
       "  </thead>\n",
       "  <tbody>\n",
       "    <tr>\n",
       "      <th>count</th>\n",
       "      <td>63709.00</td>\n",
       "      <td>63709.00</td>\n",
       "    </tr>\n",
       "    <tr>\n",
       "      <th>mean</th>\n",
       "      <td>127.90</td>\n",
       "      <td>94.67</td>\n",
       "    </tr>\n",
       "    <tr>\n",
       "      <th>std</th>\n",
       "      <td>152.96</td>\n",
       "      <td>185.61</td>\n",
       "    </tr>\n",
       "    <tr>\n",
       "      <th>min</th>\n",
       "      <td>-150.00</td>\n",
       "      <td>-70.00</td>\n",
       "    </tr>\n",
       "    <tr>\n",
       "      <th>25%</th>\n",
       "      <td>120.00</td>\n",
       "      <td>80.00</td>\n",
       "    </tr>\n",
       "    <tr>\n",
       "      <th>50%</th>\n",
       "      <td>120.00</td>\n",
       "      <td>80.00</td>\n",
       "    </tr>\n",
       "    <tr>\n",
       "      <th>75%</th>\n",
       "      <td>140.00</td>\n",
       "      <td>90.00</td>\n",
       "    </tr>\n",
       "    <tr>\n",
       "      <th>max</th>\n",
       "      <td>16020.00</td>\n",
       "      <td>10000.00</td>\n",
       "    </tr>\n",
       "  </tbody>\n",
       "</table>\n",
       "</div>"
      ],
      "text/plain": [
       "         ap_hi    ap_lo\n",
       "count 63709.00 63709.00\n",
       "mean    127.90    94.67\n",
       "std     152.96   185.61\n",
       "min    -150.00   -70.00\n",
       "25%     120.00    80.00\n",
       "50%     120.00    80.00\n",
       "75%     140.00    90.00\n",
       "max   16020.00 10000.00"
      ]
     },
     "execution_count": 24,
     "metadata": {},
     "output_type": "execute_result"
    }
   ],
   "source": [
    "df.loc[:,bp_cols].describe()  # check their stats"
   ]
  },
  {
   "cell_type": "code",
   "execution_count": 206,
   "metadata": {},
   "outputs": [],
   "source": [
    "df = df[df['ap_lo'] > 0]"
   ]
  },
  {
   "cell_type": "code",
   "execution_count": 207,
   "metadata": {},
   "outputs": [],
   "source": [
    "df['ap_hi'] = df['ap_hi'].apply(lambda x: x * (-1) if x < 0 else x)"
   ]
  },
  {
   "cell_type": "code",
   "execution_count": 230,
   "metadata": {
    "scrolled": false
   },
   "outputs": [
    {
     "data": {
      "text/html": [
       "<div>\n",
       "<style scoped>\n",
       "    .dataframe tbody tr th:only-of-type {\n",
       "        vertical-align: middle;\n",
       "    }\n",
       "\n",
       "    .dataframe tbody tr th {\n",
       "        vertical-align: top;\n",
       "    }\n",
       "\n",
       "    .dataframe thead th {\n",
       "        text-align: right;\n",
       "    }\n",
       "</style>\n",
       "<table border=\"1\" class=\"dataframe\">\n",
       "  <thead>\n",
       "    <tr style=\"text-align: right;\">\n",
       "      <th></th>\n",
       "      <th>age</th>\n",
       "      <th>gender</th>\n",
       "      <th>height</th>\n",
       "      <th>weight</th>\n",
       "      <th>ap_hi</th>\n",
       "      <th>ap_lo</th>\n",
       "      <th>cholesterol</th>\n",
       "      <th>gluc</th>\n",
       "      <th>smoke</th>\n",
       "      <th>alco</th>\n",
       "      <th>active</th>\n",
       "      <th>cardio</th>\n",
       "      <th>bmi</th>\n",
       "    </tr>\n",
       "    <tr>\n",
       "      <th>id</th>\n",
       "      <th></th>\n",
       "      <th></th>\n",
       "      <th></th>\n",
       "      <th></th>\n",
       "      <th></th>\n",
       "      <th></th>\n",
       "      <th></th>\n",
       "      <th></th>\n",
       "      <th></th>\n",
       "      <th></th>\n",
       "      <th></th>\n",
       "      <th></th>\n",
       "      <th></th>\n",
       "    </tr>\n",
       "  </thead>\n",
       "  <tbody>\n",
       "  </tbody>\n",
       "</table>\n",
       "</div>"
      ],
      "text/plain": [
       "Empty DataFrame\n",
       "Columns: [age, gender, height, weight, ap_hi, ap_lo, cholesterol, gluc, smoke, alco, active, cardio, bmi]\n",
       "Index: []"
      ]
     },
     "execution_count": 230,
     "metadata": {},
     "output_type": "execute_result"
    }
   ],
   "source": [
    "df[(df['ap_lo'] >= 1000) & (df['ap_lo'] <= 1400)]"
   ]
  },
  {
   "cell_type": "code",
   "execution_count": 267,
   "metadata": {},
   "outputs": [],
   "source": [
    "df['ap_lo'] = df['ap_lo'].apply(lambda x: x/10 if (x >= 500) & (x <=1400) else\n",
    "                               (x/100 if (x > 1400) else x))"
   ]
  },
  {
   "cell_type": "code",
   "execution_count": 263,
   "metadata": {},
   "outputs": [],
   "source": [
    "df['ap_hi'] = df['ap_hi'].apply(lambda x: x/10 if (x >= 900) & (x <=2400) else\n",
    "                                (x/100 if x> 2400 else x))"
   ]
  },
  {
   "cell_type": "code",
   "execution_count": 273,
   "metadata": {},
   "outputs": [
    {
     "data": {
      "text/html": [
       "<div>\n",
       "<style scoped>\n",
       "    .dataframe tbody tr th:only-of-type {\n",
       "        vertical-align: middle;\n",
       "    }\n",
       "\n",
       "    .dataframe tbody tr th {\n",
       "        vertical-align: top;\n",
       "    }\n",
       "\n",
       "    .dataframe thead th {\n",
       "        text-align: right;\n",
       "    }\n",
       "</style>\n",
       "<table border=\"1\" class=\"dataframe\">\n",
       "  <thead>\n",
       "    <tr style=\"text-align: right;\">\n",
       "      <th></th>\n",
       "      <th>age</th>\n",
       "      <th>gender</th>\n",
       "      <th>height</th>\n",
       "      <th>weight</th>\n",
       "      <th>ap_hi</th>\n",
       "      <th>ap_lo</th>\n",
       "      <th>cholesterol</th>\n",
       "      <th>gluc</th>\n",
       "      <th>smoke</th>\n",
       "      <th>alco</th>\n",
       "      <th>active</th>\n",
       "      <th>cardio</th>\n",
       "      <th>bmi</th>\n",
       "    </tr>\n",
       "    <tr>\n",
       "      <th>id</th>\n",
       "      <th></th>\n",
       "      <th></th>\n",
       "      <th></th>\n",
       "      <th></th>\n",
       "      <th></th>\n",
       "      <th></th>\n",
       "      <th></th>\n",
       "      <th></th>\n",
       "      <th></th>\n",
       "      <th></th>\n",
       "      <th></th>\n",
       "      <th></th>\n",
       "      <th></th>\n",
       "    </tr>\n",
       "  </thead>\n",
       "  <tbody>\n",
       "    <tr>\n",
       "      <th>58349</th>\n",
       "      <td>54.263</td>\n",
       "      <td>female</td>\n",
       "      <td>1.620</td>\n",
       "      <td>67.000</td>\n",
       "      <td>401.000</td>\n",
       "      <td>80.000</td>\n",
       "      <td>normal</td>\n",
       "      <td>well above normal</td>\n",
       "      <td>0</td>\n",
       "      <td>0</td>\n",
       "      <td>1</td>\n",
       "      <td>1</td>\n",
       "      <td>25.530</td>\n",
       "    </tr>\n",
       "  </tbody>\n",
       "</table>\n",
       "</div>"
      ],
      "text/plain": [
       "         age  gender  height  weight   ap_hi  ap_lo cholesterol  \\\n",
       "id                                                                \n",
       "58349 54.263  female   1.620  67.000 401.000 80.000      normal   \n",
       "\n",
       "                    gluc  smoke  alco  active  cardio    bmi  \n",
       "id                                                            \n",
       "58349  well above normal      0     0       1       1 25.530  "
      ]
     },
     "execution_count": 273,
     "metadata": {},
     "output_type": "execute_result"
    }
   ],
   "source": [
    "df[df['ap_hi'] > 240] # just one entry"
   ]
  },
  {
   "cell_type": "code",
   "execution_count": 277,
   "metadata": {},
   "outputs": [
    {
     "data": {
      "text/plain": [
       "normal         25657\n",
       "overweight     25201\n",
       "obese          12210\n",
       "underweight      620\n",
       "Name: bmi_cat, dtype: int64"
      ]
     },
     "execution_count": 277,
     "metadata": {},
     "output_type": "execute_result"
    }
   ],
   "source": [
    "df['bmi_cat'] = pd.cut(df['bmi'], right= False, bins = [0,18.5,25,30,36], \n",
    "                       labels=['underweight','normal','overweight','obese'])\n",
    "df['bmi_cat'].value_counts(dropna = False)"
   ]
  },
  {
   "cell_type": "code",
   "execution_count": 284,
   "metadata": {},
   "outputs": [
    {
     "data": {
      "text/html": [
       "<div>\n",
       "<style scoped>\n",
       "    .dataframe tbody tr th:only-of-type {\n",
       "        vertical-align: middle;\n",
       "    }\n",
       "\n",
       "    .dataframe tbody tr th {\n",
       "        vertical-align: top;\n",
       "    }\n",
       "\n",
       "    .dataframe thead th {\n",
       "        text-align: right;\n",
       "    }\n",
       "</style>\n",
       "<table border=\"1\" class=\"dataframe\">\n",
       "  <thead>\n",
       "    <tr style=\"text-align: right;\">\n",
       "      <th></th>\n",
       "      <th>age</th>\n",
       "      <th>gender</th>\n",
       "      <th>height</th>\n",
       "      <th>weight</th>\n",
       "      <th>ap_hi</th>\n",
       "      <th>ap_lo</th>\n",
       "      <th>cholesterol</th>\n",
       "      <th>gluc</th>\n",
       "      <th>smoke</th>\n",
       "      <th>alco</th>\n",
       "      <th>active</th>\n",
       "      <th>cardio</th>\n",
       "      <th>bmi</th>\n",
       "      <th>bmi_cat</th>\n",
       "    </tr>\n",
       "    <tr>\n",
       "      <th>id</th>\n",
       "      <th></th>\n",
       "      <th></th>\n",
       "      <th></th>\n",
       "      <th></th>\n",
       "      <th></th>\n",
       "      <th></th>\n",
       "      <th></th>\n",
       "      <th></th>\n",
       "      <th></th>\n",
       "      <th></th>\n",
       "      <th></th>\n",
       "      <th></th>\n",
       "      <th></th>\n",
       "      <th></th>\n",
       "    </tr>\n",
       "  </thead>\n",
       "  <tbody>\n",
       "    <tr>\n",
       "      <th>0</th>\n",
       "      <td>50.39</td>\n",
       "      <td>male</td>\n",
       "      <td>1.68</td>\n",
       "      <td>62.00</td>\n",
       "      <td>110.00</td>\n",
       "      <td>80.00</td>\n",
       "      <td>normal</td>\n",
       "      <td>normal</td>\n",
       "      <td>0</td>\n",
       "      <td>0</td>\n",
       "      <td>1</td>\n",
       "      <td>0</td>\n",
       "      <td>21.97</td>\n",
       "      <td>normal</td>\n",
       "    </tr>\n",
       "    <tr>\n",
       "      <th>1</th>\n",
       "      <td>55.42</td>\n",
       "      <td>female</td>\n",
       "      <td>1.56</td>\n",
       "      <td>85.00</td>\n",
       "      <td>140.00</td>\n",
       "      <td>90.00</td>\n",
       "      <td>well above normal</td>\n",
       "      <td>normal</td>\n",
       "      <td>0</td>\n",
       "      <td>0</td>\n",
       "      <td>1</td>\n",
       "      <td>1</td>\n",
       "      <td>34.93</td>\n",
       "      <td>obese</td>\n",
       "    </tr>\n",
       "    <tr>\n",
       "      <th>2</th>\n",
       "      <td>51.66</td>\n",
       "      <td>female</td>\n",
       "      <td>1.65</td>\n",
       "      <td>64.00</td>\n",
       "      <td>130.00</td>\n",
       "      <td>70.00</td>\n",
       "      <td>well above normal</td>\n",
       "      <td>normal</td>\n",
       "      <td>0</td>\n",
       "      <td>0</td>\n",
       "      <td>0</td>\n",
       "      <td>1</td>\n",
       "      <td>23.51</td>\n",
       "      <td>normal</td>\n",
       "    </tr>\n",
       "    <tr>\n",
       "      <th>3</th>\n",
       "      <td>48.28</td>\n",
       "      <td>male</td>\n",
       "      <td>1.69</td>\n",
       "      <td>82.00</td>\n",
       "      <td>150.00</td>\n",
       "      <td>100.00</td>\n",
       "      <td>normal</td>\n",
       "      <td>normal</td>\n",
       "      <td>0</td>\n",
       "      <td>0</td>\n",
       "      <td>1</td>\n",
       "      <td>1</td>\n",
       "      <td>28.71</td>\n",
       "      <td>overweight</td>\n",
       "    </tr>\n",
       "    <tr>\n",
       "      <th>4</th>\n",
       "      <td>47.87</td>\n",
       "      <td>female</td>\n",
       "      <td>1.56</td>\n",
       "      <td>56.00</td>\n",
       "      <td>100.00</td>\n",
       "      <td>60.00</td>\n",
       "      <td>normal</td>\n",
       "      <td>normal</td>\n",
       "      <td>0</td>\n",
       "      <td>0</td>\n",
       "      <td>0</td>\n",
       "      <td>0</td>\n",
       "      <td>23.01</td>\n",
       "      <td>normal</td>\n",
       "    </tr>\n",
       "  </tbody>\n",
       "</table>\n",
       "</div>"
      ],
      "text/plain": [
       "     age  gender  height  weight  ap_hi  ap_lo        cholesterol    gluc  \\\n",
       "id                                                                          \n",
       "0  50.39    male    1.68   62.00 110.00  80.00             normal  normal   \n",
       "1  55.42  female    1.56   85.00 140.00  90.00  well above normal  normal   \n",
       "2  51.66  female    1.65   64.00 130.00  70.00  well above normal  normal   \n",
       "3  48.28    male    1.69   82.00 150.00 100.00             normal  normal   \n",
       "4  47.87  female    1.56   56.00 100.00  60.00             normal  normal   \n",
       "\n",
       "    smoke  alco  active  cardio   bmi     bmi_cat  \n",
       "id                                                 \n",
       "0       0     0       1       0 21.97      normal  \n",
       "1       0     0       1       1 34.93       obese  \n",
       "2       0     0       0       1 23.51      normal  \n",
       "3       0     0       1       1 28.71  overweight  \n",
       "4       0     0       0       0 23.01      normal  "
      ]
     },
     "execution_count": 284,
     "metadata": {},
     "output_type": "execute_result"
    }
   ],
   "source": [
    "df.head()"
   ]
  },
  {
   "cell_type": "code",
   "execution_count": 290,
   "metadata": {},
   "outputs": [
    {
     "data": {
      "text/plain": [
       "bmi_cat\n",
       "underweight   0.27\n",
       "normal        0.40\n",
       "overweight    0.51\n",
       "obese         0.60\n",
       "Name: cardio, dtype: float64"
      ]
     },
     "execution_count": 290,
     "metadata": {},
     "output_type": "execute_result"
    }
   ],
   "source": [
    "df.groupby('bmi_cat')['cardio'].mean()"
   ]
  },
  {
   "cell_type": "code",
   "execution_count": 299,
   "metadata": {},
   "outputs": [],
   "source": [
    "dummy_df = pd.get_dummies(df, columns=['bmi_cat'], prefix = '', prefix_sep = '', drop_first= True)"
   ]
  },
  {
   "cell_type": "code",
   "execution_count": 300,
   "metadata": {},
   "outputs": [
    {
     "data": {
      "text/plain": [
       "age          0.24\n",
       "height       0.00\n",
       "weight       0.15\n",
       "ap_hi        0.40\n",
       "ap_lo        0.33\n",
       "smoke        0.01\n",
       "alco         0.01\n",
       "active       0.04\n",
       "cardio       1.00\n",
       "bmi          0.17\n",
       "normal       0.13\n",
       "overweight   0.05\n",
       "obese        0.12\n",
       "Name: cardio, dtype: float64"
      ]
     },
     "execution_count": 300,
     "metadata": {},
     "output_type": "execute_result"
    }
   ],
   "source": [
    "dummy_df.corr().abs()['cardio']"
   ]
  },
  {
   "cell_type": "code",
   "execution_count": null,
   "metadata": {},
   "outputs": [],
   "source": []
  }
 ],
 "metadata": {
  "kernelspec": {
   "display_name": "Python 3",
   "language": "python",
   "name": "python3"
  },
  "language_info": {
   "codemirror_mode": {
    "name": "ipython",
    "version": 3
   },
   "file_extension": ".py",
   "mimetype": "text/x-python",
   "name": "python",
   "nbconvert_exporter": "python",
   "pygments_lexer": "ipython3",
   "version": "3.8.3"
  }
 },
 "nbformat": 4,
 "nbformat_minor": 4
}
